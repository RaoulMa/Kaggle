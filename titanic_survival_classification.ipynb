{
 "cells": [
  {
   "cell_type": "markdown",
   "metadata": {
    "_cell_guid": "4d0f1227-9788-4cf8-a9cf-21bbfad4db3a",
    "_uuid": "17aaaacd8c9701d4aecc4fcd650770fcc93e2147"
   },
   "source": [
    "**Author:** Raoul Malm  \n",
    "\n",
    "**Description:** \n",
    "\n",
    "Given is a training set of 891 samples listing passengers who survived or did not survive the Titanic disaster. The goal is to construct a model that can predict from a test dataset of 418 passengers not containing the survival information if these passengers in the test dataset survived or not. This is a supervised classification task. The individual steps for the solution are:\n",
    "- Analyze data\n",
    "- Manipulate data: complete, convert, create and delete features\n",
    "- Model data: implement kNN, SVC with linear/rbf kernel, Naive Bayes, Decision Tree, Random Forest, Ada Boost, Extra Tree, Gradient Boosting and Neural Network classifiers\n",
    "- Validate models and analyze feature importance\n",
    "- Analyze the correlation of model predictions and perform model stacking\n",
    "- Choose a model and submit the prediction for the test set\n",
    "\n",
    "**Results:** \n",
    "\n",
    "- Using a 10-fold cross-validation on the labeled training data single base models can achieve roughly an 82% accuracy on the validation set. Stacking several base models and training a meta model on their predictions we can achieve an accuracy of 0.7990 on the test set. \n",
    "\n",
    "**Outline:**\n",
    "\n",
    "1. [Libraries and settings](#1-bullet)  \n",
    "2. [Analyze data](#2-bullet)  \n",
    "    2.1 [First look](#2.1-bullet)  \n",
    "    2.2 [Check correlation with Survived](#2.2-bullet)  \n",
    "3. [Manipulate data](#3-bullet)  \n",
    "    3.1 [Complete and convert features : Sex, Embarked, Age, Fare](#3.1-bullet)  \n",
    "    3.2 [Create new features: Title,FamilySize,IsAlone,AgeBin*Pclass,NameLength,HasCabin](#3.2-bullet)  \n",
    "    3.3 [Feature selection](#3.3-bullet)  \n",
    "4. [Model and validate data](#4-bullet)  \n",
    "    4.1 [Create training, validation, testing sets](#4.1-bullet)  \n",
    "    4.2 [Neural network implementation](#4.2-bullet)  \n",
    "    4.3 [Base models with sklearn](#4.3-bullet)  \n",
    "    4.4 [Comparison of models](#4.4-bullet)  \n",
    "    4.5 [Look at feature importance](#4.5-bullet)  \n",
    "    4.6 [Stacking of models](#4.6-bullet)      \n",
    "5. [Predict and submit test results](#5-bullet)  \n",
    "\n",
    "\n",
    "**References:**\n",
    "\n",
    "[Titanic Data Science Solutions by Manav Sehgal](https://www.kaggle.com/startupsci/titanic-data-science-solutions?scriptVersionId=1145136)\n",
    "\n",
    "[Introduction to Ensembling/Stacking in Python by Anisotropic](https://www.kaggle.com/arthurtok/introduction-to-ensembling-stacking-in-python)\n"
   ]
  },
  {
   "cell_type": "markdown",
   "metadata": {
    "_cell_guid": "6bacf1cb-9713-450b-9107-60190cc8c767",
    "_uuid": "266d8130e738c87f2149790be96ffab9ca99ce94"
   },
   "source": [
    "# 1. Libraries and settings <a class=\"anchor\" id=\"1-bullet\"></a> "
   ]
  },
  {
   "cell_type": "code",
   "execution_count": 1,
   "metadata": {
    "_cell_guid": "811372be-a4a3-4b03-a1dd-66a36f96a834",
    "_uuid": "5cfd2df9914284894f08d8f702efed041897fbac",
    "scrolled": false
   },
   "outputs": [
    {
     "name": "stdout",
     "output_type": "stream",
     "text": [
      "/Users/raoul/Documents/anaconda-workspace/Kaggle/Titanic_Classification: ['.DS_Store', 'input', 'working']\n",
      "/Users/raoul/Documents/anaconda-workspace/Kaggle/Titanic_Classification/working: ['.ipynb_checkpoints', 'submission.csv', 'Titanic_Survival_0.7990_Test_Acc.ipynb']\n"
     ]
    }
   ],
   "source": [
    "# data analysis and wrangling\n",
    "import pandas as pd\n",
    "import numpy as np\n",
    "import random as rnd\n",
    "import sklearn.linear_model\n",
    "import sklearn.svm\n",
    "import sklearn.ensemble\n",
    "import sklearn.neighbors\n",
    "import sklearn.naive_bayes\n",
    "import sklearn.tree\n",
    "import sklearn.model_selection\n",
    "import sklearn.pipeline  \n",
    "import sklearn.preprocessing\n",
    "from subprocess import check_output\n",
    "import seaborn as sns\n",
    "import os\n",
    "import tensorflow as tf\n",
    "import itertools\n",
    "import matplotlib.pyplot as plt\n",
    "%matplotlib inline\n",
    "\n",
    "#display parent directory and working directory\n",
    "print(os.path.dirname(os.getcwd())+':', os.listdir(os.path.dirname(os.getcwd())));\n",
    "print(os.getcwd()+':', os.listdir(os.getcwd()));"
   ]
  },
  {
   "cell_type": "markdown",
   "metadata": {
    "_cell_guid": "e35a0af9-f2f5-4c9d-b1ab-cd55d34dc368",
    "_uuid": "76c019d3fd8b019a37badd2ca90dd68df746d3aa"
   },
   "source": [
    "# 2. Analyze data <a class=\"anchor\" id=\"2-bullet\"></a> \n",
    "\n",
    "The train/test sets have 891/418 rows with 12/11 columns. The features are:\n",
    "- Survived: 0 = No, 1 = Yes \n",
    "- Pclass: Ticket class 1 = 1st, 2 = 2nd, 3 = 3rd \n",
    "- Name: Name of the passenger\n",
    "- Sex: male, female \n",
    "- Age: Age in years. Is fractional if less than 1. If the age is estimated, it is in the form of xx.5.\n",
    "- SibSp: # of siblings / spouses aboard the Titanic (Sibling = brother, sister, stepbrother, stepsister, Spouse = husband, wife). Mistresses and fiancés were ignored\n",
    "- Parch: # of parents / children aboard the Titanic (Parent = mother, father, Child = daughter, son, stepdaughter, stepson). Some children travelled only with a nanny, therefore Parch=0 for them.\n",
    "- Ticket: Ticket number \n",
    "- Fare: Passenger fare \n",
    "- Cabin: Cabin number \n",
    "- Embarked: Port of Embarkation C = Cherbourg, Q = Queenstown, S = Southampton\n",
    "\n",
    "The features can be characterized by different types:\n",
    "- numerical: Age (continuous, float64), Fare (continuous, float64), SibSp (discrete, int64), Parch (discrete, int64)\n",
    "- categorial: Sex (string), Pclass (int64), Embarked (character), Survived (int64), Ticket (alphanumeric, string), Cabin (alphanumeric, string), Name (string)\n",
    "\n",
    " \n"
   ]
  },
  {
   "cell_type": "markdown",
   "metadata": {},
   "source": [
    "## 2.1 First look <a class=\"anchor\" id=\"2.1-bullet\"></a> "
   ]
  },
  {
   "cell_type": "code",
   "execution_count": 2,
   "metadata": {
    "_cell_guid": "f696b514-65b0-4c68-afc9-24d9c7ad5b76",
    "_uuid": "ad8140a6b4de1b76e866685fd9c615e3b0a1b22d"
   },
   "outputs": [
    {
     "name": "stdout",
     "output_type": "stream",
     "text": [
      "<class 'pandas.core.frame.DataFrame'>\n",
      "RangeIndex: 891 entries, 0 to 890\n",
      "Data columns (total 12 columns):\n",
      "PassengerId    891 non-null int64\n",
      "Survived       891 non-null int64\n",
      "Pclass         891 non-null int64\n",
      "Name           891 non-null object\n",
      "Sex            891 non-null object\n",
      "Age            714 non-null float64\n",
      "SibSp          891 non-null int64\n",
      "Parch          891 non-null int64\n",
      "Ticket         891 non-null object\n",
      "Fare           891 non-null float64\n",
      "Cabin          204 non-null object\n",
      "Embarked       889 non-null object\n",
      "dtypes: float64(2), int64(5), object(5)\n",
      "memory usage: 83.6+ KB\n",
      "________________________________________\n",
      "<class 'pandas.core.frame.DataFrame'>\n",
      "RangeIndex: 418 entries, 0 to 417\n",
      "Data columns (total 11 columns):\n",
      "PassengerId    418 non-null int64\n",
      "Pclass         418 non-null int64\n",
      "Name           418 non-null object\n",
      "Sex            418 non-null object\n",
      "Age            332 non-null float64\n",
      "SibSp          418 non-null int64\n",
      "Parch          418 non-null int64\n",
      "Ticket         418 non-null object\n",
      "Fare           417 non-null float64\n",
      "Cabin          91 non-null object\n",
      "Embarked       418 non-null object\n",
      "dtypes: float64(2), int64(4), object(5)\n",
      "memory usage: 36.0+ KB\n"
     ]
    }
   ],
   "source": [
    "# read data and have a first look at it\n",
    "train_df = pd.read_csv('../input/train.csv')\n",
    "test_df = pd.read_csv('../input/test.csv')\n",
    "\n",
    "train_df.info()\n",
    "print('_'*40)\n",
    "test_df.info()"
   ]
  },
  {
   "cell_type": "code",
   "execution_count": 3,
   "metadata": {},
   "outputs": [
    {
     "name": "stdout",
     "output_type": "stream",
     "text": [
      "PassengerId      0\n",
      "Survived         0\n",
      "Pclass           0\n",
      "Name             0\n",
      "Sex              0\n",
      "Age            177\n",
      "SibSp            0\n",
      "Parch            0\n",
      "Ticket           0\n",
      "Fare             0\n",
      "Cabin          687\n",
      "Embarked         2\n",
      "dtype: int64\n",
      "\n",
      "PassengerId      0\n",
      "Pclass           0\n",
      "Name             0\n",
      "Sex              0\n",
      "Age             86\n",
      "SibSp            0\n",
      "Parch            0\n",
      "Ticket           0\n",
      "Fare             1\n",
      "Cabin          327\n",
      "Embarked         0\n",
      "dtype: int64\n"
     ]
    }
   ],
   "source": [
    "# missing values\n",
    "print(train_df.isnull().sum())\n",
    "print('')\n",
    "print(test_df.isnull().sum())"
   ]
  },
  {
   "cell_type": "code",
   "execution_count": 4,
   "metadata": {
    "_cell_guid": "c6a07f39-00ee-44e7-8c63-b8b1ab325425",
    "_uuid": "fe63088da87c3e8c058d98759343029bf687867c",
    "collapsed": true
   },
   "outputs": [],
   "source": [
    "# look at the first five rows\n",
    "#train_df.head()"
   ]
  },
  {
   "cell_type": "code",
   "execution_count": 5,
   "metadata": {
    "_cell_guid": "4e0f38e6-35f2-46dc-9c34-d0c88ac0d311",
    "_uuid": "38c3f85679cf49944fd1bfc722d8088121dde7ae",
    "collapsed": true
   },
   "outputs": [],
   "source": [
    "# look at the first five rows\n",
    "#test_df.head() "
   ]
  },
  {
   "cell_type": "code",
   "execution_count": 6,
   "metadata": {
    "_cell_guid": "463d0a51-b3a1-4727-9468-74c3f0e45758",
    "_uuid": "788e866d0c76a0a37c90b8beea35c2cbf4b0face",
    "collapsed": true
   },
   "outputs": [],
   "source": [
    "# describe numerical data\n",
    "#train_df.describe()"
   ]
  },
  {
   "cell_type": "code",
   "execution_count": 7,
   "metadata": {
    "_cell_guid": "956858f4-7cda-4c5e-be06-e9a45caa708e",
    "_uuid": "47a2deaa936890dfb617a31e7db56b5dc0c8e715",
    "collapsed": true
   },
   "outputs": [],
   "source": [
    "# describe numerical data\n",
    "#test_df.describe()"
   ]
  },
  {
   "cell_type": "code",
   "execution_count": 8,
   "metadata": {
    "_cell_guid": "596013e4-944c-4c44-9536-3753fc029e7d",
    "_uuid": "48c9d13d71f64ce0280025b93540353ee703778d",
    "collapsed": true
   },
   "outputs": [],
   "source": [
    "# describe object data\n",
    "#train_df.describe(include=['O'])"
   ]
  },
  {
   "cell_type": "code",
   "execution_count": 9,
   "metadata": {
    "_cell_guid": "27528cc9-a2b9-4bc4-a391-e30b38425905",
    "_uuid": "9a01e53cae1125459c83d26367ad58f5bbd3038f",
    "collapsed": true,
    "scrolled": true
   },
   "outputs": [],
   "source": [
    "# describe object data\n",
    "#test_df.describe(include=['O'])"
   ]
  },
  {
   "cell_type": "markdown",
   "metadata": {},
   "source": [
    "## 2.2 Check correlation with Survived  <a class=\"anchor\" id=\"2.2-bullet\"></a> "
   ]
  },
  {
   "cell_type": "code",
   "execution_count": 10,
   "metadata": {
    "_cell_guid": "8b52a7ab-7b4b-4074-9461-66c3c0e27e1d",
    "_uuid": "2818d95b9ce19d3f1fa55895fb99abaca87fca49"
   },
   "outputs": [
    {
     "data": {
      "text/html": [
       "<div>\n",
       "<style scoped>\n",
       "    .dataframe tbody tr th:only-of-type {\n",
       "        vertical-align: middle;\n",
       "    }\n",
       "\n",
       "    .dataframe tbody tr th {\n",
       "        vertical-align: top;\n",
       "    }\n",
       "\n",
       "    .dataframe thead th {\n",
       "        text-align: right;\n",
       "    }\n",
       "</style>\n",
       "<table border=\"1\" class=\"dataframe\">\n",
       "  <thead>\n",
       "    <tr style=\"text-align: right;\">\n",
       "      <th></th>\n",
       "      <th>Pclass</th>\n",
       "      <th>Survived</th>\n",
       "    </tr>\n",
       "  </thead>\n",
       "  <tbody>\n",
       "    <tr>\n",
       "      <th>0</th>\n",
       "      <td>1</td>\n",
       "      <td>0.629630</td>\n",
       "    </tr>\n",
       "    <tr>\n",
       "      <th>1</th>\n",
       "      <td>2</td>\n",
       "      <td>0.472826</td>\n",
       "    </tr>\n",
       "    <tr>\n",
       "      <th>2</th>\n",
       "      <td>3</td>\n",
       "      <td>0.242363</td>\n",
       "    </tr>\n",
       "  </tbody>\n",
       "</table>\n",
       "</div>"
      ],
      "text/plain": [
       "   Pclass  Survived\n",
       "0       1  0.629630\n",
       "1       2  0.472826\n",
       "2       3  0.242363"
      ]
     },
     "execution_count": 10,
     "metadata": {},
     "output_type": "execute_result"
    }
   ],
   "source": [
    "# check Pclass - Survived correlation\n",
    "train_df[['Pclass', 'Survived']].groupby(['Pclass'], as_index=False).mean().sort_values(by='Survived', ascending=False)"
   ]
  },
  {
   "cell_type": "code",
   "execution_count": 11,
   "metadata": {
    "_cell_guid": "073264d9-9ee9-430a-a789-d7a9ea8ce819",
    "_uuid": "a13fda47b1f19675626428444e0d654674c6a6a4"
   },
   "outputs": [
    {
     "data": {
      "text/html": [
       "<div>\n",
       "<style scoped>\n",
       "    .dataframe tbody tr th:only-of-type {\n",
       "        vertical-align: middle;\n",
       "    }\n",
       "\n",
       "    .dataframe tbody tr th {\n",
       "        vertical-align: top;\n",
       "    }\n",
       "\n",
       "    .dataframe thead th {\n",
       "        text-align: right;\n",
       "    }\n",
       "</style>\n",
       "<table border=\"1\" class=\"dataframe\">\n",
       "  <thead>\n",
       "    <tr style=\"text-align: right;\">\n",
       "      <th></th>\n",
       "      <th>Sex</th>\n",
       "      <th>Survived</th>\n",
       "    </tr>\n",
       "  </thead>\n",
       "  <tbody>\n",
       "    <tr>\n",
       "      <th>0</th>\n",
       "      <td>female</td>\n",
       "      <td>0.742038</td>\n",
       "    </tr>\n",
       "    <tr>\n",
       "      <th>1</th>\n",
       "      <td>male</td>\n",
       "      <td>0.188908</td>\n",
       "    </tr>\n",
       "  </tbody>\n",
       "</table>\n",
       "</div>"
      ],
      "text/plain": [
       "      Sex  Survived\n",
       "0  female  0.742038\n",
       "1    male  0.188908"
      ]
     },
     "execution_count": 11,
     "metadata": {},
     "output_type": "execute_result"
    }
   ],
   "source": [
    "# check Sex - Survived correlation\n",
    "train_df[[\"Sex\", \"Survived\"]].groupby(['Sex'], as_index=False).mean().sort_values(by='Survived', ascending=False)"
   ]
  },
  {
   "cell_type": "code",
   "execution_count": 12,
   "metadata": {
    "_cell_guid": "f06e19f9-41c7-48f5-99af-3131ebc1bcb8",
    "_uuid": "493254854cddf43d35ae88ecccd39fdf2fc32d61"
   },
   "outputs": [
    {
     "data": {
      "text/html": [
       "<div>\n",
       "<style scoped>\n",
       "    .dataframe tbody tr th:only-of-type {\n",
       "        vertical-align: middle;\n",
       "    }\n",
       "\n",
       "    .dataframe tbody tr th {\n",
       "        vertical-align: top;\n",
       "    }\n",
       "\n",
       "    .dataframe thead th {\n",
       "        text-align: right;\n",
       "    }\n",
       "</style>\n",
       "<table border=\"1\" class=\"dataframe\">\n",
       "  <thead>\n",
       "    <tr style=\"text-align: right;\">\n",
       "      <th></th>\n",
       "      <th>SibSp</th>\n",
       "      <th>Survived</th>\n",
       "    </tr>\n",
       "  </thead>\n",
       "  <tbody>\n",
       "    <tr>\n",
       "      <th>1</th>\n",
       "      <td>1</td>\n",
       "      <td>0.535885</td>\n",
       "    </tr>\n",
       "    <tr>\n",
       "      <th>2</th>\n",
       "      <td>2</td>\n",
       "      <td>0.464286</td>\n",
       "    </tr>\n",
       "    <tr>\n",
       "      <th>0</th>\n",
       "      <td>0</td>\n",
       "      <td>0.345395</td>\n",
       "    </tr>\n",
       "    <tr>\n",
       "      <th>3</th>\n",
       "      <td>3</td>\n",
       "      <td>0.250000</td>\n",
       "    </tr>\n",
       "    <tr>\n",
       "      <th>4</th>\n",
       "      <td>4</td>\n",
       "      <td>0.166667</td>\n",
       "    </tr>\n",
       "    <tr>\n",
       "      <th>5</th>\n",
       "      <td>5</td>\n",
       "      <td>0.000000</td>\n",
       "    </tr>\n",
       "    <tr>\n",
       "      <th>6</th>\n",
       "      <td>8</td>\n",
       "      <td>0.000000</td>\n",
       "    </tr>\n",
       "  </tbody>\n",
       "</table>\n",
       "</div>"
      ],
      "text/plain": [
       "   SibSp  Survived\n",
       "1      1  0.535885\n",
       "2      2  0.464286\n",
       "0      0  0.345395\n",
       "3      3  0.250000\n",
       "4      4  0.166667\n",
       "5      5  0.000000\n",
       "6      8  0.000000"
      ]
     },
     "execution_count": 12,
     "metadata": {},
     "output_type": "execute_result"
    }
   ],
   "source": [
    "# check SibSp - Survived correlation\n",
    "train_df[[\"SibSp\", \"Survived\"]].groupby(['SibSp'], as_index=False).mean().sort_values(by='Survived', ascending=False)"
   ]
  },
  {
   "cell_type": "code",
   "execution_count": 13,
   "metadata": {
    "_cell_guid": "f11b085e-12ab-4ae4-a30e-6f7fa84cdec1",
    "_uuid": "5b62f8794633932930bc14526dbe428ab9c4ed61"
   },
   "outputs": [
    {
     "data": {
      "text/html": [
       "<div>\n",
       "<style scoped>\n",
       "    .dataframe tbody tr th:only-of-type {\n",
       "        vertical-align: middle;\n",
       "    }\n",
       "\n",
       "    .dataframe tbody tr th {\n",
       "        vertical-align: top;\n",
       "    }\n",
       "\n",
       "    .dataframe thead th {\n",
       "        text-align: right;\n",
       "    }\n",
       "</style>\n",
       "<table border=\"1\" class=\"dataframe\">\n",
       "  <thead>\n",
       "    <tr style=\"text-align: right;\">\n",
       "      <th></th>\n",
       "      <th>Parch</th>\n",
       "      <th>Survived</th>\n",
       "    </tr>\n",
       "  </thead>\n",
       "  <tbody>\n",
       "    <tr>\n",
       "      <th>3</th>\n",
       "      <td>3</td>\n",
       "      <td>0.600000</td>\n",
       "    </tr>\n",
       "    <tr>\n",
       "      <th>1</th>\n",
       "      <td>1</td>\n",
       "      <td>0.550847</td>\n",
       "    </tr>\n",
       "    <tr>\n",
       "      <th>2</th>\n",
       "      <td>2</td>\n",
       "      <td>0.500000</td>\n",
       "    </tr>\n",
       "    <tr>\n",
       "      <th>0</th>\n",
       "      <td>0</td>\n",
       "      <td>0.343658</td>\n",
       "    </tr>\n",
       "    <tr>\n",
       "      <th>5</th>\n",
       "      <td>5</td>\n",
       "      <td>0.200000</td>\n",
       "    </tr>\n",
       "    <tr>\n",
       "      <th>4</th>\n",
       "      <td>4</td>\n",
       "      <td>0.000000</td>\n",
       "    </tr>\n",
       "    <tr>\n",
       "      <th>6</th>\n",
       "      <td>6</td>\n",
       "      <td>0.000000</td>\n",
       "    </tr>\n",
       "  </tbody>\n",
       "</table>\n",
       "</div>"
      ],
      "text/plain": [
       "   Parch  Survived\n",
       "3      3  0.600000\n",
       "1      1  0.550847\n",
       "2      2  0.500000\n",
       "0      0  0.343658\n",
       "5      5  0.200000\n",
       "4      4  0.000000\n",
       "6      6  0.000000"
      ]
     },
     "execution_count": 13,
     "metadata": {},
     "output_type": "execute_result"
    }
   ],
   "source": [
    "# check Parch - Survived correlation\n",
    "train_df[[\"Parch\", \"Survived\"]].groupby(['Parch'], as_index=False).mean().sort_values(by='Survived', ascending=False)"
   ]
  },
  {
   "cell_type": "code",
   "execution_count": 14,
   "metadata": {
    "_cell_guid": "b9e3c595-52fc-4ce1-bca8-3d3c569d1155",
    "_uuid": "25ea5d350a8282b17fa20723bfd421495659c671"
   },
   "outputs": [
    {
     "data": {
      "image/png": "[encoded data removed]",
      "text/plain": [
       "<matplotlib.figure.Figure at 0x11b8fc898>"
      ]
     },
     "metadata": {},
     "output_type": "display_data"
    }
   ],
   "source": [
    "# Age histograms depending on Survived\n",
    "grid = sns.FacetGrid(train_df, col='Survived');\n",
    "grid.map(plt.hist, 'Age', bins=20);"
   ]
  },
  {
   "cell_type": "code",
   "execution_count": 15,
   "metadata": {
    "_cell_guid": "9a71b19e-956e-4852-8b85-76aa31822268",
    "_uuid": "71efb8aa83cda4bb1a9e668d204fa4f180429433"
   },
   "outputs": [
    {
     "data": {
      "image/png": "[encoded data removed]",
      "text/plain": [
       "<matplotlib.figure.Figure at 0x11ef5e978>"
      ]
     },
     "metadata": {},
     "output_type": "display_data"
    }
   ],
   "source": [
    "# Age histograms depending on Survived, Pclass\n",
    "grid = sns.FacetGrid(train_df, col='Survived', row='Pclass', size=2.2, aspect=1.6)\n",
    "grid.map(plt.hist, 'Age', alpha=.5, bins=20)\n",
    "grid.add_legend();"
   ]
  },
  {
   "cell_type": "code",
   "execution_count": 16,
   "metadata": {
    "_cell_guid": "537c62c3-1f43-4dbb-83a8-f7f0f0cf60d5",
    "_uuid": "489e7932e751bf8e946d3c1b8aab1e233785d4a9"
   },
   "outputs": [
    {
     "name": "stderr",
     "output_type": "stream",
     "text": [
      "/Users/raoul/anaconda/lib/python3.6/site-packages/seaborn/categorical.py:1468: FutureWarning: remove_na is deprecated and is a private function. Do not use.\n",
      "  stat_data = remove_na(group_data[hue_mask])\n"
     ]
    },
    {
     "data": {
      "image/png": "[encoded data removed]",
      "text/plain": [
       "<matplotlib.figure.Figure at 0x109c1bb38>"
      ]
     },
     "metadata": {},
     "output_type": "display_data"
    }
   ],
   "source": [
    "# Survived values depending on Embarked, Sex\n",
    "grid = sns.FacetGrid(train_df, row='Embarked', size=2.2, aspect=1.6);\n",
    "grid.map(sns.pointplot, 'Pclass', 'Survived', 'Sex', palette='deep');\n",
    "grid.add_legend();"
   ]
  },
  {
   "cell_type": "code",
   "execution_count": 17,
   "metadata": {
    "_cell_guid": "a83cdbab-e89e-4590-b449-170f3aef58e8",
    "_uuid": "da065d1b2edd2423f6dd6212848a9e200213cc79"
   },
   "outputs": [
    {
     "name": "stderr",
     "output_type": "stream",
     "text": [
      "/Users/raoul/anaconda/lib/python3.6/site-packages/seaborn/categorical.py:1428: FutureWarning: remove_na is deprecated and is a private function. Do not use.\n",
      "  stat_data = remove_na(group_data)\n"
     ]
    },
    {
     "data": {
      "text/plain": [
       "<seaborn.axisgrid.FacetGrid at 0x11f7b4320>"
      ]
     },
     "execution_count": 17,
     "metadata": {},
     "output_type": "execute_result"
    },
    {
     "data": {
      "image/png": "[encoded data removed]",
      "text/plain": [
       "<matplotlib.figure.Figure at 0x11f7c9320>"
      ]
     },
     "metadata": {},
     "output_type": "display_data"
    }
   ],
   "source": [
    "# Fare depending on Embarked, Survived, Sex\n",
    "grid = sns.FacetGrid(train_df, row='Embarked', col='Survived', size=2.2, aspect=1.6)\n",
    "grid.map(sns.barplot, 'Sex', 'Fare', alpha=.5, ci=None)\n",
    "grid.add_legend()"
   ]
  },
  {
   "cell_type": "markdown",
   "metadata": {
    "_cell_guid": "f5e6bedd-9ad3-4324-93d6-b6d8836c0c49",
    "_uuid": "bd727fbb9d8a43457f301c93cf0dc8fe815e7579"
   },
   "source": [
    "# 3. Manipulate data <a class=\"anchor\" id=\"3-bullet\"></a> \n",
    "\n",
    "By having analyzed the data we will perform the following steps:\n",
    "\n",
    "- create new feature: Title\n",
    "- convert feature: Sex\n",
    "- complete and convert feature: Age\n",
    "- create new features: IsAlone, Age*Pclass\n",
    "- complete and convert feature: Embarked \n",
    "- complete and convert feature: Fare\n",
    "- convert feature: Pclass\n",
    "- create new features: NameLength, HasCabin\n",
    "- drop features\n",
    "- visualize correlations of features"
   ]
  },
  {
   "cell_type": "code",
   "execution_count": 18,
   "metadata": {},
   "outputs": [
    {
     "name": "stdout",
     "output_type": "stream",
     "text": [
      "data_df.shape =  (1309, 12)\n"
     ]
    }
   ],
   "source": [
    "# combine train and test data for manipulation\n",
    "data_df = pd.concat((train_df, test_df)).reset_index(drop=True)\n",
    "print('data_df.shape = ', data_df.shape)"
   ]
  },
  {
   "cell_type": "markdown",
   "metadata": {
    "_cell_guid": "dd33c23a-35a6-4614-b032-89e4ba55787d",
    "_uuid": "7e9cddf2d40b2eedc7ffa33d9e1d64b1f1300862"
   },
   "source": [
    "### 3.1 Complete and convert features : Sex, Embarked, Age, Fare <a class=\"anchor\" id=\"3.1-bullet\"></a> "
   ]
  },
  {
   "cell_type": "code",
   "execution_count": 19,
   "metadata": {
    "collapsed": true
   },
   "outputs": [],
   "source": [
    "# make categorial feature numerical\n",
    "data_df['Sex'] = data_df['Sex'].map( {'female': 1, 'male': 0} ).astype(int)"
   ]
  },
  {
   "cell_type": "code",
   "execution_count": 20,
   "metadata": {},
   "outputs": [
    {
     "name": "stdout",
     "output_type": "stream",
     "text": [
      "2 missing values\n",
      "S = most frequent\n"
     ]
    },
    {
     "data": {
      "text/html": [
       "<div>\n",
       "<style scoped>\n",
       "    .dataframe tbody tr th:only-of-type {\n",
       "        vertical-align: middle;\n",
       "    }\n",
       "\n",
       "    .dataframe tbody tr th {\n",
       "        vertical-align: top;\n",
       "    }\n",
       "\n",
       "    .dataframe thead th {\n",
       "        text-align: right;\n",
       "    }\n",
       "</style>\n",
       "<table border=\"1\" class=\"dataframe\">\n",
       "  <thead>\n",
       "    <tr style=\"text-align: right;\">\n",
       "      <th></th>\n",
       "      <th>Embarked</th>\n",
       "      <th>Survived</th>\n",
       "    </tr>\n",
       "  </thead>\n",
       "  <tbody>\n",
       "    <tr>\n",
       "      <th>0</th>\n",
       "      <td>C</td>\n",
       "      <td>0.553571</td>\n",
       "    </tr>\n",
       "    <tr>\n",
       "      <th>1</th>\n",
       "      <td>Q</td>\n",
       "      <td>0.389610</td>\n",
       "    </tr>\n",
       "    <tr>\n",
       "      <th>2</th>\n",
       "      <td>S</td>\n",
       "      <td>0.339009</td>\n",
       "    </tr>\n",
       "  </tbody>\n",
       "</table>\n",
       "</div>"
      ],
      "text/plain": [
       "  Embarked  Survived\n",
       "0        C  0.553571\n",
       "1        Q  0.389610\n",
       "2        S  0.339009"
      ]
     },
     "execution_count": 20,
     "metadata": {},
     "output_type": "execute_result"
    }
   ],
   "source": [
    "print(data_df.Embarked.isnull().values.sum(),'missing values')\n",
    "\n",
    "# most frequent occurence of Embarked value\n",
    "freq_port = data_df.Embarked.dropna().mode()[0]\n",
    "print(freq_port,'= most frequent');\n",
    "\n",
    "# replace na entries with most frequent value of Embarked\n",
    "data_df['Embarked'] = data_df['Embarked'].fillna(freq_port)\n",
    "    \n",
    "data_df[['Embarked', 'Survived']].groupby(['Embarked'],\n",
    "    as_index=False).mean().sort_values(by='Survived', ascending=False)"
   ]
  },
  {
   "cell_type": "code",
   "execution_count": 21,
   "metadata": {
    "_cell_guid": "92666ab6-92e2-496c-983d-9809331c2199",
    "_uuid": "f1ba3ac193e6a7f7bf4ae3ed2633eee18a663d9b"
   },
   "outputs": [
    {
     "name": "stdout",
     "output_type": "stream",
     "text": [
      "263 missing values\n",
      "0 missing values\n"
     ]
    }
   ],
   "source": [
    "# complete missing age entries by using information on Sex, Pclass\n",
    "\n",
    "# many missing values\n",
    "print(data_df.Age.isnull().values.sum(), 'missing values')\n",
    "\n",
    "guess_ages = np.zeros((2,3));\n",
    "\n",
    "for i in range(0, 2):\n",
    "    for j in range(0, 3):\n",
    "        guess_df = data_df[(data_df['Sex'] == i) & \n",
    "                           (data_df['Pclass'] == j+1)]['Age'].dropna()\n",
    "\n",
    "        \n",
    "        age_mean = guess_df.mean()\n",
    "        age_std = guess_df.std()\n",
    "        age_guess = np.random.normal(age_mean, age_std)\n",
    "\n",
    "        #age_guess = guess_df.median()\n",
    "        #print(age_guess)\n",
    "\n",
    "        guess_ages[i,j] = int((age_guess/0.5 + 0.5) * 0.5)\n",
    "\n",
    "\n",
    "for i in range(0, 2):\n",
    "    for j in range(0, 3):\n",
    "        data_df.loc[(data_df.Age.isnull()) & (data_df.Sex == i) & \n",
    "                    (data_df.Pclass == j+1),'Age'] = guess_ages[i,j]\n",
    "\n",
    "data_df['Age'] = data_df['Age'].astype(int)\n",
    "\n",
    "print(data_df.Age.isnull().values.sum(), 'missing values')\n",
    "\n",
    "#train_df.head()"
   ]
  },
  {
   "cell_type": "code",
   "execution_count": 22,
   "metadata": {
    "_cell_guid": "c41b12f4-62de-4ea4-b085-f1ea982b45fe",
    "_uuid": "f32868c32eeb97af1bdf95d6516cfbcb6b23e949"
   },
   "outputs": [
    {
     "data": {
      "text/html": [
       "<div>\n",
       "<style scoped>\n",
       "    .dataframe tbody tr th:only-of-type {\n",
       "        vertical-align: middle;\n",
       "    }\n",
       "\n",
       "    .dataframe tbody tr th {\n",
       "        vertical-align: top;\n",
       "    }\n",
       "\n",
       "    .dataframe thead th {\n",
       "        text-align: right;\n",
       "    }\n",
       "</style>\n",
       "<table border=\"1\" class=\"dataframe\">\n",
       "  <thead>\n",
       "    <tr style=\"text-align: right;\">\n",
       "      <th></th>\n",
       "      <th>AgeBand</th>\n",
       "      <th>Survived</th>\n",
       "    </tr>\n",
       "  </thead>\n",
       "  <tbody>\n",
       "    <tr>\n",
       "      <th>0</th>\n",
       "      <td>(-0.001, 21.0]</td>\n",
       "      <td>0.432039</td>\n",
       "    </tr>\n",
       "    <tr>\n",
       "      <th>1</th>\n",
       "      <td>(21.0, 28.0]</td>\n",
       "      <td>0.381250</td>\n",
       "    </tr>\n",
       "    <tr>\n",
       "      <th>2</th>\n",
       "      <td>(28.0, 35.0]</td>\n",
       "      <td>0.467391</td>\n",
       "    </tr>\n",
       "    <tr>\n",
       "      <th>3</th>\n",
       "      <td>(35.0, 40.0]</td>\n",
       "      <td>0.267442</td>\n",
       "    </tr>\n",
       "    <tr>\n",
       "      <th>4</th>\n",
       "      <td>(40.0, 80.0]</td>\n",
       "      <td>0.355030</td>\n",
       "    </tr>\n",
       "  </tbody>\n",
       "</table>\n",
       "</div>"
      ],
      "text/plain": [
       "          AgeBand  Survived\n",
       "0  (-0.001, 21.0]  0.432039\n",
       "1    (21.0, 28.0]  0.381250\n",
       "2    (28.0, 35.0]  0.467391\n",
       "3    (35.0, 40.0]  0.267442\n",
       "4    (40.0, 80.0]  0.355030"
      ]
     },
     "execution_count": 22,
     "metadata": {},
     "output_type": "execute_result"
    }
   ],
   "source": [
    "# create new feature AgeBand\n",
    "data_df['AgeBand'] = pd.qcut(data_df['Age'], 5)\n",
    "data_df[['AgeBand', 'Survived']].groupby(['AgeBand'], \n",
    "            as_index=False).mean().sort_values(by='AgeBand', ascending=True)"
   ]
  },
  {
   "cell_type": "code",
   "execution_count": 23,
   "metadata": {
    "_cell_guid": "80329730-e5f2-4e99-b975-bd4dfa108991",
    "_uuid": "1b7a96abfbd2d6a933883ddf870cd7d9f21818aa"
   },
   "outputs": [
    {
     "name": "stdout",
     "output_type": "stream",
     "text": [
      "41 missing values\n"
     ]
    }
   ],
   "source": [
    "# Creat AgeBins with ordinals based on the bands in AgeBand\n",
    "data_df.loc[data_df['Age'] <= 16, 'AgeBin'] = 0\n",
    "data_df.loc[(data_df['Age'] > 16) & (data_df['Age'] <= 32), 'AgeBin'] = 1\n",
    "data_df.loc[(data_df['Age'] > 32) & (data_df['Age'] <= 48), 'AgeBin'] = 2\n",
    "data_df.loc[(data_df['Age'] > 48) & (data_df['Age'] <= 64), 'AgeBin'] = 3\n",
    "data_df.loc[data_df['Age'] > 64, 'AgeBin']\n",
    "\n",
    "# drop AgeBand\n",
    "data_df = data_df.drop(['AgeBand'], axis=1)\n",
    "\n",
    "print(data_df.AgeBin.isnull().values.sum(), 'missing values')\n",
    "#data_df.head()"
   ]
  },
  {
   "cell_type": "code",
   "execution_count": 24,
   "metadata": {},
   "outputs": [
    {
     "name": "stdout",
     "output_type": "stream",
     "text": [
      "1 missing values\n",
      "0 missing values\n"
     ]
    },
    {
     "data": {
      "text/html": [
       "<div>\n",
       "<style scoped>\n",
       "    .dataframe tbody tr th:only-of-type {\n",
       "        vertical-align: middle;\n",
       "    }\n",
       "\n",
       "    .dataframe tbody tr th {\n",
       "        vertical-align: top;\n",
       "    }\n",
       "\n",
       "    .dataframe thead th {\n",
       "        text-align: right;\n",
       "    }\n",
       "</style>\n",
       "<table border=\"1\" class=\"dataframe\">\n",
       "  <thead>\n",
       "    <tr style=\"text-align: right;\">\n",
       "      <th></th>\n",
       "      <th>FareBand</th>\n",
       "      <th>Survived</th>\n",
       "    </tr>\n",
       "  </thead>\n",
       "  <tbody>\n",
       "    <tr>\n",
       "      <th>0</th>\n",
       "      <td>(-0.001, 7.854]</td>\n",
       "      <td>0.217877</td>\n",
       "    </tr>\n",
       "    <tr>\n",
       "      <th>1</th>\n",
       "      <td>(7.854, 10.5]</td>\n",
       "      <td>0.201087</td>\n",
       "    </tr>\n",
       "    <tr>\n",
       "      <th>2</th>\n",
       "      <td>(10.5, 21.558]</td>\n",
       "      <td>0.426901</td>\n",
       "    </tr>\n",
       "    <tr>\n",
       "      <th>3</th>\n",
       "      <td>(21.558, 41.579]</td>\n",
       "      <td>0.443243</td>\n",
       "    </tr>\n",
       "    <tr>\n",
       "      <th>4</th>\n",
       "      <td>(41.579, 512.329]</td>\n",
       "      <td>0.645349</td>\n",
       "    </tr>\n",
       "  </tbody>\n",
       "</table>\n",
       "</div>"
      ],
      "text/plain": [
       "            FareBand  Survived\n",
       "0    (-0.001, 7.854]  0.217877\n",
       "1      (7.854, 10.5]  0.201087\n",
       "2     (10.5, 21.558]  0.426901\n",
       "3   (21.558, 41.579]  0.443243\n",
       "4  (41.579, 512.329]  0.645349"
      ]
     },
     "execution_count": 24,
     "metadata": {},
     "output_type": "execute_result"
    }
   ],
   "source": [
    "# complete feature Fare\n",
    "\n",
    "print(data_df.Fare.isnull().values.sum(), 'missing values')\n",
    "data_df['Fare'].fillna(data_df['Fare'].dropna().median(), inplace=True)\n",
    "print(data_df.Fare.isnull().values.sum(), 'missing values')\n",
    "\n",
    "# create feature FareBand\n",
    "data_df['FareBand'] = pd.qcut(data_df['Fare'], 5)\n",
    "data_df[['FareBand', 'Survived']].groupby(['FareBand'], \n",
    "        as_index=False).mean().sort_values(by='FareBand', ascending=True)"
   ]
  },
  {
   "cell_type": "code",
   "execution_count": 25,
   "metadata": {
    "collapsed": true
   },
   "outputs": [],
   "source": [
    "# create feature FareBin by ordinals based on FareBand\n",
    "data_df.loc[ data_df['Fare'] <= 7.91, 'FareBin'] = 0\n",
    "data_df.loc[(data_df['Fare'] > 7.91) & (data_df['Fare'] <= 14.454), 'FareBin'] = 1\n",
    "data_df.loc[(data_df['Fare'] > 14.454) & (data_df['Fare'] <= 31), 'FareBin']   = 2\n",
    "data_df.loc[ data_df['Fare'] > 31, 'FareBin'] = 3\n",
    "data_df['FareBin'] = data_df['FareBin'].astype(int)\n",
    "\n",
    "data_df = data_df.drop(['FareBand'], axis=1)\n",
    "    \n",
    "#train_df.head()"
   ]
  },
  {
   "cell_type": "markdown",
   "metadata": {
    "_cell_guid": "0ac53154-9ff5-4c1c-b5f3-2c9b5d91fbdd",
    "_uuid": "ba8c386ddd84948b992f2b4adc69cc233c675d0a"
   },
   "source": [
    "### 3.2 Create new features: Title, FamilySize, IsAlone, Age*Pclass, NameLength, HasCabin <a class=\"anchor\" id=\"3.2-bullet\"></a> "
   ]
  },
  {
   "cell_type": "code",
   "execution_count": 26,
   "metadata": {},
   "outputs": [
    {
     "data": {
      "text/html": [
       "<div>\n",
       "<style scoped>\n",
       "    .dataframe tbody tr th:only-of-type {\n",
       "        vertical-align: middle;\n",
       "    }\n",
       "\n",
       "    .dataframe tbody tr th {\n",
       "        vertical-align: top;\n",
       "    }\n",
       "\n",
       "    .dataframe thead th {\n",
       "        text-align: right;\n",
       "    }\n",
       "</style>\n",
       "<table border=\"1\" class=\"dataframe\">\n",
       "  <thead>\n",
       "    <tr style=\"text-align: right;\">\n",
       "      <th>Title</th>\n",
       "      <th>Capt</th>\n",
       "      <th>Col</th>\n",
       "      <th>Countess</th>\n",
       "      <th>Don</th>\n",
       "      <th>Dr</th>\n",
       "      <th>Jonkheer</th>\n",
       "      <th>Lady</th>\n",
       "      <th>Major</th>\n",
       "      <th>Master</th>\n",
       "      <th>Miss</th>\n",
       "      <th>Mlle</th>\n",
       "      <th>Mme</th>\n",
       "      <th>Mr</th>\n",
       "      <th>Mrs</th>\n",
       "      <th>Ms</th>\n",
       "      <th>Rev</th>\n",
       "      <th>Sir</th>\n",
       "    </tr>\n",
       "    <tr>\n",
       "      <th>Survived</th>\n",
       "      <th></th>\n",
       "      <th></th>\n",
       "      <th></th>\n",
       "      <th></th>\n",
       "      <th></th>\n",
       "      <th></th>\n",
       "      <th></th>\n",
       "      <th></th>\n",
       "      <th></th>\n",
       "      <th></th>\n",
       "      <th></th>\n",
       "      <th></th>\n",
       "      <th></th>\n",
       "      <th></th>\n",
       "      <th></th>\n",
       "      <th></th>\n",
       "      <th></th>\n",
       "    </tr>\n",
       "  </thead>\n",
       "  <tbody>\n",
       "    <tr>\n",
       "      <th>0</th>\n",
       "      <td>1</td>\n",
       "      <td>1</td>\n",
       "      <td>0</td>\n",
       "      <td>1</td>\n",
       "      <td>4</td>\n",
       "      <td>1</td>\n",
       "      <td>0</td>\n",
       "      <td>1</td>\n",
       "      <td>17</td>\n",
       "      <td>55</td>\n",
       "      <td>0</td>\n",
       "      <td>0</td>\n",
       "      <td>436</td>\n",
       "      <td>26</td>\n",
       "      <td>0</td>\n",
       "      <td>6</td>\n",
       "      <td>0</td>\n",
       "    </tr>\n",
       "    <tr>\n",
       "      <th>1</th>\n",
       "      <td>0</td>\n",
       "      <td>1</td>\n",
       "      <td>1</td>\n",
       "      <td>0</td>\n",
       "      <td>3</td>\n",
       "      <td>0</td>\n",
       "      <td>1</td>\n",
       "      <td>1</td>\n",
       "      <td>23</td>\n",
       "      <td>127</td>\n",
       "      <td>2</td>\n",
       "      <td>1</td>\n",
       "      <td>81</td>\n",
       "      <td>99</td>\n",
       "      <td>1</td>\n",
       "      <td>0</td>\n",
       "      <td>1</td>\n",
       "    </tr>\n",
       "  </tbody>\n",
       "</table>\n",
       "</div>"
      ],
      "text/plain": [
       "Title     Capt  Col  Countess  Don  Dr  Jonkheer  Lady  Major  Master  Miss  \\\n",
       "Survived                                                                      \n",
       "0            1    1         0    1   4         1     0      1      17    55   \n",
       "1            0    1         1    0   3         0     1      1      23   127   \n",
       "\n",
       "Title     Mlle  Mme   Mr  Mrs  Ms  Rev  Sir  \n",
       "Survived                                     \n",
       "0            0    0  436   26   0    6    0  \n",
       "1            2    1   81   99   1    0    1  "
      ]
     },
     "execution_count": 26,
     "metadata": {},
     "output_type": "execute_result"
    }
   ],
   "source": [
    "# extract title from Name and then create new feature: Title  \n",
    "data_df['Title'] = data_df.Name.str.extract(' ([A-Za-z]+)\\.', expand=False)\n",
    "pd.crosstab(train_df['Survived'], data_df['Title'])"
   ]
  },
  {
   "cell_type": "code",
   "execution_count": 27,
   "metadata": {},
   "outputs": [
    {
     "data": {
      "text/html": [
       "<div>\n",
       "<style scoped>\n",
       "    .dataframe tbody tr th:only-of-type {\n",
       "        vertical-align: middle;\n",
       "    }\n",
       "\n",
       "    .dataframe tbody tr th {\n",
       "        vertical-align: top;\n",
       "    }\n",
       "\n",
       "    .dataframe thead th {\n",
       "        text-align: right;\n",
       "    }\n",
       "</style>\n",
       "<table border=\"1\" class=\"dataframe\">\n",
       "  <thead>\n",
       "    <tr style=\"text-align: right;\">\n",
       "      <th>Title</th>\n",
       "      <th>Capt</th>\n",
       "      <th>Col</th>\n",
       "      <th>Countess</th>\n",
       "      <th>Don</th>\n",
       "      <th>Dona</th>\n",
       "      <th>Dr</th>\n",
       "      <th>Jonkheer</th>\n",
       "      <th>Lady</th>\n",
       "      <th>Major</th>\n",
       "      <th>Master</th>\n",
       "      <th>Miss</th>\n",
       "      <th>Mlle</th>\n",
       "      <th>Mme</th>\n",
       "      <th>Mr</th>\n",
       "      <th>Mrs</th>\n",
       "      <th>Ms</th>\n",
       "      <th>Rev</th>\n",
       "      <th>Sir</th>\n",
       "    </tr>\n",
       "    <tr>\n",
       "      <th>Sex</th>\n",
       "      <th></th>\n",
       "      <th></th>\n",
       "      <th></th>\n",
       "      <th></th>\n",
       "      <th></th>\n",
       "      <th></th>\n",
       "      <th></th>\n",
       "      <th></th>\n",
       "      <th></th>\n",
       "      <th></th>\n",
       "      <th></th>\n",
       "      <th></th>\n",
       "      <th></th>\n",
       "      <th></th>\n",
       "      <th></th>\n",
       "      <th></th>\n",
       "      <th></th>\n",
       "      <th></th>\n",
       "    </tr>\n",
       "  </thead>\n",
       "  <tbody>\n",
       "    <tr>\n",
       "      <th>0</th>\n",
       "      <td>1</td>\n",
       "      <td>4</td>\n",
       "      <td>0</td>\n",
       "      <td>1</td>\n",
       "      <td>0</td>\n",
       "      <td>7</td>\n",
       "      <td>1</td>\n",
       "      <td>0</td>\n",
       "      <td>2</td>\n",
       "      <td>61</td>\n",
       "      <td>0</td>\n",
       "      <td>0</td>\n",
       "      <td>0</td>\n",
       "      <td>757</td>\n",
       "      <td>0</td>\n",
       "      <td>0</td>\n",
       "      <td>8</td>\n",
       "      <td>1</td>\n",
       "    </tr>\n",
       "    <tr>\n",
       "      <th>1</th>\n",
       "      <td>0</td>\n",
       "      <td>0</td>\n",
       "      <td>1</td>\n",
       "      <td>0</td>\n",
       "      <td>1</td>\n",
       "      <td>1</td>\n",
       "      <td>0</td>\n",
       "      <td>1</td>\n",
       "      <td>0</td>\n",
       "      <td>0</td>\n",
       "      <td>260</td>\n",
       "      <td>2</td>\n",
       "      <td>1</td>\n",
       "      <td>0</td>\n",
       "      <td>197</td>\n",
       "      <td>2</td>\n",
       "      <td>0</td>\n",
       "      <td>0</td>\n",
       "    </tr>\n",
       "  </tbody>\n",
       "</table>\n",
       "</div>"
      ],
      "text/plain": [
       "Title  Capt  Col  Countess  Don  Dona  Dr  Jonkheer  Lady  Major  Master  \\\n",
       "Sex                                                                        \n",
       "0         1    4         0    1     0   7         1     0      2      61   \n",
       "1         0    0         1    0     1   1         0     1      0       0   \n",
       "\n",
       "Title  Miss  Mlle  Mme   Mr  Mrs  Ms  Rev  Sir  \n",
       "Sex                                             \n",
       "0         0     0    0  757    0   0    8    1  \n",
       "1       260     2    1    0  197   2    0    0  "
      ]
     },
     "execution_count": 27,
     "metadata": {},
     "output_type": "execute_result"
    }
   ],
   "source": [
    "# correlation of Sex and Title\n",
    "pd.crosstab(data_df['Sex'], data_df['Title'])"
   ]
  },
  {
   "cell_type": "code",
   "execution_count": 28,
   "metadata": {},
   "outputs": [
    {
     "name": "stdout",
     "output_type": "stream",
     "text": [
      "missing titles =  0\n"
     ]
    }
   ],
   "source": [
    "# reduce the number of titles\n",
    "data_df['Title'] = data_df['Title'].replace(['Lady', 'Countess','Capt', 'Col',\n",
    "                                             'Don', 'Dr', 'Major', 'Rev', 'Sir',\n",
    "                                             'Jonkheer', 'Dona'], 'Rare')\n",
    "data_df['Title'] = data_df['Title'].replace('Mlle', 'Miss')\n",
    "data_df['Title'] = data_df['Title'].replace('Ms', 'Miss')\n",
    "data_df['Title'] = data_df['Title'].replace('Mme', 'Mrs')\n",
    "\n",
    "# no missing titles\n",
    "print('missing titles = ', data_df.Title.isnull().sum())\n",
    "\n",
    "#data_df.head()"
   ]
  },
  {
   "cell_type": "code",
   "execution_count": 29,
   "metadata": {
    "_cell_guid": "2d076f61-8c88-4509-bd19-828d536cf926",
    "_uuid": "064ba062be5d0cc303081b20e7e5b85c39b15894"
   },
   "outputs": [
    {
     "data": {
      "text/html": [
       "<div>\n",
       "<style scoped>\n",
       "    .dataframe tbody tr th:only-of-type {\n",
       "        vertical-align: middle;\n",
       "    }\n",
       "\n",
       "    .dataframe tbody tr th {\n",
       "        vertical-align: top;\n",
       "    }\n",
       "\n",
       "    .dataframe thead th {\n",
       "        text-align: right;\n",
       "    }\n",
       "</style>\n",
       "<table border=\"1\" class=\"dataframe\">\n",
       "  <thead>\n",
       "    <tr style=\"text-align: right;\">\n",
       "      <th></th>\n",
       "      <th>FamilySize</th>\n",
       "      <th>Survived</th>\n",
       "    </tr>\n",
       "  </thead>\n",
       "  <tbody>\n",
       "    <tr>\n",
       "      <th>3</th>\n",
       "      <td>4</td>\n",
       "      <td>0.724138</td>\n",
       "    </tr>\n",
       "    <tr>\n",
       "      <th>2</th>\n",
       "      <td>3</td>\n",
       "      <td>0.578431</td>\n",
       "    </tr>\n",
       "    <tr>\n",
       "      <th>1</th>\n",
       "      <td>2</td>\n",
       "      <td>0.552795</td>\n",
       "    </tr>\n",
       "    <tr>\n",
       "      <th>6</th>\n",
       "      <td>7</td>\n",
       "      <td>0.333333</td>\n",
       "    </tr>\n",
       "    <tr>\n",
       "      <th>0</th>\n",
       "      <td>1</td>\n",
       "      <td>0.303538</td>\n",
       "    </tr>\n",
       "    <tr>\n",
       "      <th>4</th>\n",
       "      <td>5</td>\n",
       "      <td>0.200000</td>\n",
       "    </tr>\n",
       "    <tr>\n",
       "      <th>5</th>\n",
       "      <td>6</td>\n",
       "      <td>0.136364</td>\n",
       "    </tr>\n",
       "    <tr>\n",
       "      <th>7</th>\n",
       "      <td>8</td>\n",
       "      <td>0.000000</td>\n",
       "    </tr>\n",
       "    <tr>\n",
       "      <th>8</th>\n",
       "      <td>11</td>\n",
       "      <td>0.000000</td>\n",
       "    </tr>\n",
       "  </tbody>\n",
       "</table>\n",
       "</div>"
      ],
      "text/plain": [
       "   FamilySize  Survived\n",
       "3           4  0.724138\n",
       "2           3  0.578431\n",
       "1           2  0.552795\n",
       "6           7  0.333333\n",
       "0           1  0.303538\n",
       "4           5  0.200000\n",
       "5           6  0.136364\n",
       "7           8  0.000000\n",
       "8          11  0.000000"
      ]
     },
     "execution_count": 29,
     "metadata": {},
     "output_type": "execute_result"
    }
   ],
   "source": [
    "# create new feature FamilySize\n",
    "data_df['FamilySize'] = data_df['SibSp'] + data_df['Parch'] + 1\n",
    "data_df[['FamilySize', 'Survived']].groupby(['FamilySize'],\n",
    "    as_index=False).mean().sort_values(by='Survived', ascending=False)"
   ]
  },
  {
   "cell_type": "code",
   "execution_count": 30,
   "metadata": {
    "_cell_guid": "8b10a488-878d-4460-a642-131568285796",
    "_uuid": "ef1d0f1c394bb86a81d13c0ac1d7bf8858fd2212"
   },
   "outputs": [
    {
     "data": {
      "text/html": [
       "<div>\n",
       "<style scoped>\n",
       "    .dataframe tbody tr th:only-of-type {\n",
       "        vertical-align: middle;\n",
       "    }\n",
       "\n",
       "    .dataframe tbody tr th {\n",
       "        vertical-align: top;\n",
       "    }\n",
       "\n",
       "    .dataframe thead th {\n",
       "        text-align: right;\n",
       "    }\n",
       "</style>\n",
       "<table border=\"1\" class=\"dataframe\">\n",
       "  <thead>\n",
       "    <tr style=\"text-align: right;\">\n",
       "      <th></th>\n",
       "      <th>IsAlone</th>\n",
       "      <th>Survived</th>\n",
       "    </tr>\n",
       "  </thead>\n",
       "  <tbody>\n",
       "    <tr>\n",
       "      <th>0</th>\n",
       "      <td>0</td>\n",
       "      <td>0.505650</td>\n",
       "    </tr>\n",
       "    <tr>\n",
       "      <th>1</th>\n",
       "      <td>1</td>\n",
       "      <td>0.303538</td>\n",
       "    </tr>\n",
       "  </tbody>\n",
       "</table>\n",
       "</div>"
      ],
      "text/plain": [
       "   IsAlone  Survived\n",
       "0        0  0.505650\n",
       "1        1  0.303538"
      ]
     },
     "execution_count": 30,
     "metadata": {},
     "output_type": "execute_result"
    }
   ],
   "source": [
    "# create new feature IsAlone\n",
    "data_df['IsAlone'] = 0\n",
    "data_df.loc[data_df['FamilySize'] == 1, 'IsAlone'] = 1\n",
    "data_df[['IsAlone', 'Survived']].groupby(['IsAlone'], as_index=False).mean()"
   ]
  },
  {
   "cell_type": "code",
   "execution_count": 31,
   "metadata": {},
   "outputs": [
    {
     "data": {
      "text/html": [
       "<div>\n",
       "<style scoped>\n",
       "    .dataframe tbody tr th:only-of-type {\n",
       "        vertical-align: middle;\n",
       "    }\n",
       "\n",
       "    .dataframe tbody tr th {\n",
       "        vertical-align: top;\n",
       "    }\n",
       "\n",
       "    .dataframe thead th {\n",
       "        text-align: right;\n",
       "    }\n",
       "</style>\n",
       "<table border=\"1\" class=\"dataframe\">\n",
       "  <thead>\n",
       "    <tr style=\"text-align: right;\">\n",
       "      <th></th>\n",
       "      <th>AgeBin*Pclass</th>\n",
       "      <th>Survived</th>\n",
       "    </tr>\n",
       "  </thead>\n",
       "  <tbody>\n",
       "    <tr>\n",
       "      <th>0</th>\n",
       "      <td>0.0</td>\n",
       "      <td>0.558824</td>\n",
       "    </tr>\n",
       "    <tr>\n",
       "      <th>1</th>\n",
       "      <td>1.0</td>\n",
       "      <td>0.728814</td>\n",
       "    </tr>\n",
       "    <tr>\n",
       "      <th>2</th>\n",
       "      <td>2.0</td>\n",
       "      <td>0.549133</td>\n",
       "    </tr>\n",
       "    <tr>\n",
       "      <th>3</th>\n",
       "      <td>3.0</td>\n",
       "      <td>0.336806</td>\n",
       "    </tr>\n",
       "    <tr>\n",
       "      <th>4</th>\n",
       "      <td>4.0</td>\n",
       "      <td>0.446809</td>\n",
       "    </tr>\n",
       "    <tr>\n",
       "      <th>5</th>\n",
       "      <td>6.0</td>\n",
       "      <td>0.121547</td>\n",
       "    </tr>\n",
       "    <tr>\n",
       "      <th>6</th>\n",
       "      <td>9.0</td>\n",
       "      <td>0.111111</td>\n",
       "    </tr>\n",
       "  </tbody>\n",
       "</table>\n",
       "</div>"
      ],
      "text/plain": [
       "   AgeBin*Pclass  Survived\n",
       "0            0.0  0.558824\n",
       "1            1.0  0.728814\n",
       "2            2.0  0.549133\n",
       "3            3.0  0.336806\n",
       "4            4.0  0.446809\n",
       "5            6.0  0.121547\n",
       "6            9.0  0.111111"
      ]
     },
     "execution_count": 31,
     "metadata": {},
     "output_type": "execute_result"
    }
   ],
   "source": [
    "# create new feature Age*Pclass\n",
    "data_df['AgeBin*Pclass'] = data_df.AgeBin * data_df.Pclass\n",
    "data_df[['AgeBin*Pclass', 'Survived']].groupby(['AgeBin*Pclass'], as_index=False).mean()"
   ]
  },
  {
   "cell_type": "code",
   "execution_count": 32,
   "metadata": {
    "collapsed": true
   },
   "outputs": [],
   "source": [
    "# create feature: length of the name\n",
    "data_df['NameLength'] = data_df['Name'].apply(len)\n",
    "#data_df[['NameLength', 'Survived']].groupby(['NameLength'], as_index=False).mean()"
   ]
  },
  {
   "cell_type": "code",
   "execution_count": 33,
   "metadata": {},
   "outputs": [
    {
     "data": {
      "text/html": [
       "<div>\n",
       "<style scoped>\n",
       "    .dataframe tbody tr th:only-of-type {\n",
       "        vertical-align: middle;\n",
       "    }\n",
       "\n",
       "    .dataframe tbody tr th {\n",
       "        vertical-align: top;\n",
       "    }\n",
       "\n",
       "    .dataframe thead th {\n",
       "        text-align: right;\n",
       "    }\n",
       "</style>\n",
       "<table border=\"1\" class=\"dataframe\">\n",
       "  <thead>\n",
       "    <tr style=\"text-align: right;\">\n",
       "      <th></th>\n",
       "      <th>HasCabin</th>\n",
       "      <th>Survived</th>\n",
       "    </tr>\n",
       "  </thead>\n",
       "  <tbody>\n",
       "    <tr>\n",
       "      <th>0</th>\n",
       "      <td>0</td>\n",
       "      <td>0.299854</td>\n",
       "    </tr>\n",
       "    <tr>\n",
       "      <th>1</th>\n",
       "      <td>1</td>\n",
       "      <td>0.666667</td>\n",
       "    </tr>\n",
       "  </tbody>\n",
       "</table>\n",
       "</div>"
      ],
      "text/plain": [
       "   HasCabin  Survived\n",
       "0         0  0.299854\n",
       "1         1  0.666667"
      ]
     },
     "execution_count": 33,
     "metadata": {},
     "output_type": "execute_result"
    }
   ],
   "source": [
    "# create feature that tells whether a passenger had a cabin on the Titanic\n",
    "data_df['HasCabin'] = data_df[\"Cabin\"].apply(lambda x: 0 if type(x) == float else 1)\n",
    "data_df[['HasCabin', 'Survived']].groupby(['HasCabin'], as_index=False).mean()"
   ]
  },
  {
   "cell_type": "markdown",
   "metadata": {
    "_cell_guid": "48ab3a62-6343-4c6e-9629-f5715db4bb1c",
    "_uuid": "3164712b1133b7809d3411fe07002154fe7dee91"
   },
   "source": [
    "### 3.3 Feature selection <a class=\"anchor\" id=\"3.3-bullet\"></a> "
   ]
  },
  {
   "cell_type": "code",
   "execution_count": 34,
   "metadata": {
    "_cell_guid": "8d089c55-da5b-423c-bfd2-dd99efa8991b",
    "_uuid": "dbc1b82aa187745827c2a4ddf5f3d4b410c6bb69"
   },
   "outputs": [
    {
     "name": "stdout",
     "output_type": "stream",
     "text": [
      "data_df =  (1309, 13)\n"
     ]
    }
   ],
   "source": [
    "## drop features\n",
    "if True:\n",
    "    drop_ft = ['PassengerId', 'Name', 'Ticket', 'Cabin', 'AgeBin', 'AgeBin*Pclass',\n",
    "               'FareBin']\n",
    "    data_df = data_df.drop(drop_ft, axis=1)\n",
    "    print(\"data_df = \", data_df.shape)"
   ]
  },
  {
   "cell_type": "code",
   "execution_count": 35,
   "metadata": {},
   "outputs": [
    {
     "name": "stdout",
     "output_type": "stream",
     "text": [
      "numerical columns: 11\n",
      "categorial columns: 2\n",
      "data_df.shape =  (1309, 19)\n"
     ]
    }
   ],
   "source": [
    "## use LabelEncoding or dummy variables on all categorial features\n",
    "\n",
    "cols = data_df.select_dtypes(exclude = [np.number]).columns.values\n",
    "print('numerical columns:', data_df.select_dtypes(include = \n",
    "                                                  [np.number]).columns.values.shape[0])\n",
    "print('categorial columns:', cols.shape[0])\n",
    "\n",
    "if True:\n",
    "    # create dummy variables\n",
    "    data_df = pd.get_dummies(data_df).copy()\n",
    "else:\n",
    "    # create one-hot encodings\n",
    "    for c in cols:\n",
    "        lbl = sklearn.preprocessing.LabelEncoder() \n",
    "        lbl.fit(list(data_df[c].values)) \n",
    "        data_df[c] = lbl.transform(list(data_df[c].values))\n",
    "\n",
    "# final shape        \n",
    "print('data_df.shape = ', data_df.shape)"
   ]
  },
  {
   "cell_type": "code",
   "execution_count": 36,
   "metadata": {},
   "outputs": [
    {
     "name": "stdout",
     "output_type": "stream",
     "text": [
      "Age               0\n",
      "Fare              0\n",
      "Parch             0\n",
      "Pclass            0\n",
      "Sex               0\n",
      "SibSp             0\n",
      "Survived        418\n",
      "FamilySize        0\n",
      "IsAlone           0\n",
      "NameLength        0\n",
      "HasCabin          0\n",
      "Embarked_C        0\n",
      "Embarked_Q        0\n",
      "Embarked_S        0\n",
      "Title_Master      0\n",
      "Title_Miss        0\n",
      "Title_Mr          0\n",
      "Title_Mrs         0\n",
      "Title_Rare        0\n",
      "dtype: int64\n"
     ]
    },
    {
     "data": {
      "text/html": [
       "<div>\n",
       "<style scoped>\n",
       "    .dataframe tbody tr th:only-of-type {\n",
       "        vertical-align: middle;\n",
       "    }\n",
       "\n",
       "    .dataframe tbody tr th {\n",
       "        vertical-align: top;\n",
       "    }\n",
       "\n",
       "    .dataframe thead th {\n",
       "        text-align: right;\n",
       "    }\n",
       "</style>\n",
       "<table border=\"1\" class=\"dataframe\">\n",
       "  <thead>\n",
       "    <tr style=\"text-align: right;\">\n",
       "      <th></th>\n",
       "      <th>Age</th>\n",
       "      <th>Fare</th>\n",
       "      <th>Parch</th>\n",
       "      <th>Pclass</th>\n",
       "      <th>Sex</th>\n",
       "      <th>SibSp</th>\n",
       "      <th>Survived</th>\n",
       "      <th>FamilySize</th>\n",
       "      <th>IsAlone</th>\n",
       "      <th>NameLength</th>\n",
       "      <th>HasCabin</th>\n",
       "      <th>Embarked_C</th>\n",
       "      <th>Embarked_Q</th>\n",
       "      <th>Embarked_S</th>\n",
       "      <th>Title_Master</th>\n",
       "      <th>Title_Miss</th>\n",
       "      <th>Title_Mr</th>\n",
       "      <th>Title_Mrs</th>\n",
       "      <th>Title_Rare</th>\n",
       "    </tr>\n",
       "  </thead>\n",
       "  <tbody>\n",
       "    <tr>\n",
       "      <th>0</th>\n",
       "      <td>22</td>\n",
       "      <td>7.2500</td>\n",
       "      <td>0</td>\n",
       "      <td>3</td>\n",
       "      <td>0</td>\n",
       "      <td>1</td>\n",
       "      <td>0.0</td>\n",
       "      <td>2</td>\n",
       "      <td>0</td>\n",
       "      <td>23</td>\n",
       "      <td>0</td>\n",
       "      <td>0</td>\n",
       "      <td>0</td>\n",
       "      <td>1</td>\n",
       "      <td>0</td>\n",
       "      <td>0</td>\n",
       "      <td>1</td>\n",
       "      <td>0</td>\n",
       "      <td>0</td>\n",
       "    </tr>\n",
       "    <tr>\n",
       "      <th>1</th>\n",
       "      <td>38</td>\n",
       "      <td>71.2833</td>\n",
       "      <td>0</td>\n",
       "      <td>1</td>\n",
       "      <td>1</td>\n",
       "      <td>1</td>\n",
       "      <td>1.0</td>\n",
       "      <td>2</td>\n",
       "      <td>0</td>\n",
       "      <td>51</td>\n",
       "      <td>1</td>\n",
       "      <td>1</td>\n",
       "      <td>0</td>\n",
       "      <td>0</td>\n",
       "      <td>0</td>\n",
       "      <td>0</td>\n",
       "      <td>0</td>\n",
       "      <td>1</td>\n",
       "      <td>0</td>\n",
       "    </tr>\n",
       "    <tr>\n",
       "      <th>2</th>\n",
       "      <td>26</td>\n",
       "      <td>7.9250</td>\n",
       "      <td>0</td>\n",
       "      <td>3</td>\n",
       "      <td>1</td>\n",
       "      <td>0</td>\n",
       "      <td>1.0</td>\n",
       "      <td>1</td>\n",
       "      <td>1</td>\n",
       "      <td>22</td>\n",
       "      <td>0</td>\n",
       "      <td>0</td>\n",
       "      <td>0</td>\n",
       "      <td>1</td>\n",
       "      <td>0</td>\n",
       "      <td>1</td>\n",
       "      <td>0</td>\n",
       "      <td>0</td>\n",
       "      <td>0</td>\n",
       "    </tr>\n",
       "    <tr>\n",
       "      <th>3</th>\n",
       "      <td>35</td>\n",
       "      <td>53.1000</td>\n",
       "      <td>0</td>\n",
       "      <td>1</td>\n",
       "      <td>1</td>\n",
       "      <td>1</td>\n",
       "      <td>1.0</td>\n",
       "      <td>2</td>\n",
       "      <td>0</td>\n",
       "      <td>44</td>\n",
       "      <td>1</td>\n",
       "      <td>0</td>\n",
       "      <td>0</td>\n",
       "      <td>1</td>\n",
       "      <td>0</td>\n",
       "      <td>0</td>\n",
       "      <td>0</td>\n",
       "      <td>1</td>\n",
       "      <td>0</td>\n",
       "    </tr>\n",
       "    <tr>\n",
       "      <th>4</th>\n",
       "      <td>35</td>\n",
       "      <td>8.0500</td>\n",
       "      <td>0</td>\n",
       "      <td>3</td>\n",
       "      <td>0</td>\n",
       "      <td>0</td>\n",
       "      <td>0.0</td>\n",
       "      <td>1</td>\n",
       "      <td>1</td>\n",
       "      <td>24</td>\n",
       "      <td>0</td>\n",
       "      <td>0</td>\n",
       "      <td>0</td>\n",
       "      <td>1</td>\n",
       "      <td>0</td>\n",
       "      <td>0</td>\n",
       "      <td>1</td>\n",
       "      <td>0</td>\n",
       "      <td>0</td>\n",
       "    </tr>\n",
       "  </tbody>\n",
       "</table>\n",
       "</div>"
      ],
      "text/plain": [
       "   Age     Fare  Parch  Pclass  Sex  SibSp  Survived  FamilySize  IsAlone  \\\n",
       "0   22   7.2500      0       3    0      1       0.0           2        0   \n",
       "1   38  71.2833      0       1    1      1       1.0           2        0   \n",
       "2   26   7.9250      0       3    1      0       1.0           1        1   \n",
       "3   35  53.1000      0       1    1      1       1.0           2        0   \n",
       "4   35   8.0500      0       3    0      0       0.0           1        1   \n",
       "\n",
       "   NameLength  HasCabin  Embarked_C  Embarked_Q  Embarked_S  Title_Master  \\\n",
       "0          23         0           0           0           1             0   \n",
       "1          51         1           1           0           0             0   \n",
       "2          22         0           0           0           1             0   \n",
       "3          44         1           0           0           1             0   \n",
       "4          24         0           0           0           1             0   \n",
       "\n",
       "   Title_Miss  Title_Mr  Title_Mrs  Title_Rare  \n",
       "0           0         1          0           0  \n",
       "1           0         0          1           0  \n",
       "2           1         0          0           0  \n",
       "3           0         0          1           0  \n",
       "4           0         1          0           0  "
      ]
     },
     "execution_count": 36,
     "metadata": {},
     "output_type": "execute_result"
    }
   ],
   "source": [
    "# check data_df\n",
    "print(data_df.isnull().sum())\n",
    "data_df.head()"
   ]
  },
  {
   "cell_type": "code",
   "execution_count": 37,
   "metadata": {},
   "outputs": [
    {
     "data": {
      "text/plain": [
       "<matplotlib.axes._subplots.AxesSubplot at 0x11ef90080>"
      ]
     },
     "execution_count": 37,
     "metadata": {},
     "output_type": "execute_result"
    },
    {
     "data": {
      "image/png": "[encoded data removed]",
      "text/plain": [
       "<matplotlib.figure.Figure at 0x11ef90390>"
      ]
     },
     "metadata": {},
     "output_type": "display_data"
    }
   ],
   "source": [
    "# pearson correlation of features\n",
    "colormap = plt.cm.RdBu\n",
    "plt.figure(figsize=(14,12))\n",
    "plt.title('Pearson Correlation of Features for Train Set', y=1.05, size=15)\n",
    "sns.heatmap(data_df.astype(float).corr(),linewidths=0.1,vmax=1.0, \n",
    "            square=True, cmap=colormap, linecolor='white', annot=True)"
   ]
  },
  {
   "cell_type": "markdown",
   "metadata": {
    "_cell_guid": "20ffee26-bb39-4a33-8e22-c71a5c8f8427",
    "_uuid": "cc3e41c2e9b3bbdd2272991cf9489439a21aeac4"
   },
   "source": [
    "\n",
    "# 4. Model data <a class=\"anchor\" id=\"4-bullet\"></a> "
   ]
  },
  {
   "cell_type": "markdown",
   "metadata": {},
   "source": [
    "### 4.1 Create training, validation, testing sets <a class=\"anchor\" id=\"4.1-bullet\"></a> "
   ]
  },
  {
   "cell_type": "code",
   "execution_count": 38,
   "metadata": {
    "_cell_guid": "f67936b8-5a1b-4654-80aa-005b09274f15",
    "_uuid": "1bd3e2715c87bcffa4a1f3a9efdc32a87e47f208",
    "scrolled": true
   },
   "outputs": [
    {
     "name": "stdout",
     "output_type": "stream",
     "text": [
      "        Features\n",
      "0            Age\n",
      "1           Fare\n",
      "2          Parch\n",
      "3         Pclass\n",
      "4            Sex\n",
      "5          SibSp\n",
      "6     FamilySize\n",
      "7        IsAlone\n",
      "8     NameLength\n",
      "9       HasCabin\n",
      "10    Embarked_C\n",
      "11    Embarked_Q\n",
      "12    Embarked_S\n",
      "13  Title_Master\n",
      "14    Title_Miss\n",
      "15      Title_Mr\n",
      "16     Title_Mrs\n",
      "17    Title_Rare\n",
      "\n",
      "x_train_valid.shape =  (891, 18)\n",
      "y_train_valid.shape =  (891,)\n",
      "x_test.shape =  (418, 18)\n"
     ]
    }
   ],
   "source": [
    "## create training, validation, testing sets\n",
    "\n",
    "# function to normalize data\n",
    "def normalize_data(data): \n",
    "    # scale features using statistics that are robust to outliers\n",
    "    rs = sklearn.preprocessing.RobustScaler()\n",
    "    rs.fit(data)\n",
    "    data = rs.transform(data)\n",
    "    #x_train_valid = (x_train_valid)/(x_train_valid.max(axis=0));\n",
    "    #x_test = (x_test)/(x_test.max(axis=0));\n",
    "    return data\n",
    "\n",
    "# get accuracy from classes\n",
    "def get_accuracy(y_target, y_pred):\n",
    "    y_target_class = get_classes(y_target).reshape(-1,)\n",
    "    y_pred = get_classes(y_pred).reshape(-1,)\n",
    "    return np.mean(y_target_class == y_pred)\n",
    "\n",
    "# get classes from probabilities\n",
    "def get_classes(y_proba):\n",
    "    return np.greater(y_proba, 0.5).astype(np.int) \n",
    "\n",
    "# create train/validation and test sets as copies from dataframes\n",
    "x_train_valid = data_df.drop(['Survived'],axis=1)[:train_df.shape[0]].copy().values\n",
    "y_train_valid = data_df['Survived'][:train_df.shape[0]].copy().values.reshape(-1,)\n",
    "x_test  = data_df.drop(['Survived'],axis=1)[train_df.shape[0]:].copy().values\n",
    "\n",
    "# store used features\n",
    "features_df = pd.DataFrame(data_df.drop([\"Survived\"], axis=1).columns)\n",
    "features_df.columns = ['Features']\n",
    "print(features_df)\n",
    "print('')\n",
    "\n",
    "# normalize train, validation, test data\n",
    "x_train_valid = normalize_data(x_train_valid)\n",
    "x_test = normalize_data(x_test)\n",
    "          \n",
    "print('x_train_valid.shape = ', x_train_valid.shape)\n",
    "print('y_train_valid.shape = ', y_train_valid.shape)\n",
    "print('x_test.shape = ', x_test.shape)"
   ]
  },
  {
   "cell_type": "markdown",
   "metadata": {},
   "source": [
    "### 4.2 Neural network implementation <a class=\"anchor\" id=\"4.2-bullet\"></a> "
   ]
  },
  {
   "cell_type": "code",
   "execution_count": 39,
   "metadata": {
    "collapsed": true
   },
   "outputs": [],
   "source": [
    "## neural network implementation\n",
    "\n",
    "# parameters for batch function\n",
    "perm_array_train = np.array([])\n",
    "index_in_epoch = 0 \n",
    "\n",
    "# function to get the next mini batch\n",
    "def next_batch(batch_size, x_train, y_train):\n",
    "    global index_in_epoch, perm_array_train\n",
    "    \n",
    "    start = index_in_epoch\n",
    "    index_in_epoch += batch_size\n",
    "    \n",
    "    if not len(perm_array_train) == len(x_train):\n",
    "        perm_array_train = np.arange(len(x_train))\n",
    "    \n",
    "    if index_in_epoch > x_train.shape[0]:\n",
    "        np.random.shuffle(perm_array_train) # shuffle data\n",
    "        start = 0 # start next epoch\n",
    "        index_in_epoch = batch_size # set index to batch size\n",
    "                \n",
    "    end = index_in_epoch\n",
    "    \n",
    "    x_tr  = x_train[perm_array_train[start:end]]\n",
    "    y_tr  = y_train[perm_array_train[start:end]].reshape(-1,1)\n",
    "     \n",
    "    return x_tr, y_tr\n",
    "\n",
    "\n",
    "# function to create the graph\n",
    "def create_nn_graph(num_input_features = 10, num_output_features = 1):\n",
    "\n",
    "    # reset default graph\n",
    "    tf.reset_default_graph()\n",
    "\n",
    "    # parameters of NN architecture\n",
    "    x_size = num_input_features # number of features\n",
    "    y_size = num_output_features # output size\n",
    "    n_n_fc1 = 1024; # number of neurons of first layer\n",
    "    n_n_fc2 = 1024; # number of neurons of second layer\n",
    "\n",
    "    # variables for input and output \n",
    "    x_data = tf.placeholder('float', shape=[None, x_size])\n",
    "    y_data = tf.placeholder('float', shape=[None, y_size])\n",
    "\n",
    "    # 1.layer: fully connected\n",
    "    W_fc1 = tf.Variable(tf.truncated_normal(shape = [x_size, n_n_fc1], stddev = 0.1))\n",
    "    b_fc1 = tf.Variable(tf.constant(0.1, shape = [n_n_fc1]))  \n",
    "    h_fc1 = tf.nn.relu(tf.matmul(x_data, W_fc1) + b_fc1)\n",
    "\n",
    "    # dropout\n",
    "    tf_keep_prob = tf.placeholder('float')\n",
    "    h_fc1_drop = tf.nn.dropout(h_fc1, tf_keep_prob)\n",
    "\n",
    "    # 2.layer: fully connected\n",
    "    W_fc2 = tf.Variable(tf.truncated_normal(shape = [n_n_fc1, n_n_fc2], stddev = 0.1)) \n",
    "    b_fc2 = tf.Variable(tf.constant(0.1, shape = [n_n_fc2]))  \n",
    "    h_fc2 = tf.nn.relu(tf.matmul(h_fc1_drop, W_fc2) + b_fc2) \n",
    "\n",
    "    # dropout\n",
    "    h_fc2_drop = tf.nn.dropout(h_fc2, tf_keep_prob)\n",
    "\n",
    "    # 3.layer: fully connected\n",
    "    W_fc3 = tf.Variable(tf.truncated_normal(shape = [n_n_fc2, y_size], stddev = 0.1)) \n",
    "    b_fc3 = tf.Variable(tf.constant(0.1, shape = [y_size]))  \n",
    "    z_pred = tf.matmul(h_fc2_drop, W_fc3) + b_fc3  \n",
    "\n",
    "    # cost function\n",
    "    cross_entropy = tf.reduce_mean(tf.nn.sigmoid_cross_entropy_with_logits(\n",
    "        labels=y_data, logits=z_pred));\n",
    "\n",
    "    # optimisation function\n",
    "    tf_learn_rate = tf.placeholder(dtype='float', name=\"tf_learn_rate\")\n",
    "    train_step = tf.train.AdamOptimizer(tf_learn_rate).minimize(cross_entropy)\n",
    "\n",
    "    # evaluation\n",
    "    y_pred_proba = tf.cast(tf.nn.sigmoid(z_pred),dtype = tf.float32);\n",
    "    y_pred_class = tf.cast(tf.greater(y_pred_proba, 0.5),'float')\n",
    "    accuracy = tf.reduce_mean(tf.cast(tf.equal(y_pred_class, y_data ), 'float'))\n",
    " \n",
    "    # tf tensors\n",
    "    tf_tensors = {'train_step': train_step, 'cross_entropy': cross_entropy, \n",
    "                  'y_pred_proba': y_pred_proba,'accuracy': accuracy,\n",
    "                  'tf_keep_prob': tf_keep_prob, 'tf_learn_rate': tf_learn_rate,\n",
    "                  'x_data': x_data, 'y_data': y_data}\n",
    "    \n",
    "    return tf_tensors\n",
    "\n",
    "\n",
    "# function to train the graph\n",
    "def train_nn_graph(tf_tensors, x_train, y_train, x_valid, y_valid, verbose = False):\n",
    "\n",
    "    # tf tensors\n",
    "    train_step = tf_tensors['train_step']\n",
    "    cross_entropy = tf_tensors['cross_entropy']\n",
    "    y_pred_proba = tf_tensors['y_pred_proba']\n",
    "    accuracy = tf_tensors['accuracy']\n",
    "    tf_keep_prob = tf_tensors['tf_keep_prob']\n",
    "    tf_learn_rate = tf_tensors['tf_learn_rate']\n",
    "    x_data = tf_tensors['x_data']\n",
    "    y_data = tf_tensors['y_data']\n",
    "\n",
    "    # parameters\n",
    "    keep_prob = 0.5; # dropout regularization with keeping probability\n",
    "    learn_rate_range = [0.01,0.005,0.0025,0.001,0.001,0.001,0.00075,0.0005,0.00025,0.0001,\n",
    "                       0.0001,0.0001,0.0001];\n",
    "    learn_rate_step = 10 # in terms of epochs \n",
    "    batch_size = 10 # batch size\n",
    "    n_epoch = 10 # number of epochs\n",
    "    cv_num = 10 # number of cross validations\n",
    "    n_step = -1;\n",
    "        \n",
    "    # start TensorFlow session and initialize global variables\n",
    "    sess = tf.InteractiveSession() \n",
    "    sess.run(tf.global_variables_initializer())  \n",
    "    \n",
    "    # training model\n",
    "    for i in range(int(n_epoch*x_train.shape[0]/batch_size)):\n",
    "\n",
    "        if i%int(learn_rate_step*x_train.shape[0]/batch_size) == 0:\n",
    "            n_step += 1;\n",
    "            learn_rate = learn_rate_range[n_step];\n",
    "            if verbose:\n",
    "                print('set learnrate = ', learn_rate)\n",
    "\n",
    "        # get next batch\n",
    "        x_batch, y_batch = next_batch(batch_size, x_train, y_train)\n",
    "\n",
    "        sess.run(train_step, feed_dict={x_data: x_batch, y_data: y_batch, \n",
    "                                        tf_keep_prob: keep_prob, tf_learn_rate: learn_rate})\n",
    "\n",
    "        if verbose and i%int(1.*x_train.shape[0]/batch_size) == 0:\n",
    "            train_loss = sess.run(cross_entropy,feed_dict={x_data: x_train, \n",
    "                                                           y_data: y_train, \n",
    "                                                           tf_keep_prob: 1.0})\n",
    "\n",
    "            train_acc = accuracy.eval(feed_dict={x_data: x_train, \n",
    "                                                 y_data: y_train, \n",
    "                                                 tf_keep_prob: 1.0})    \n",
    "\n",
    "            valid_loss = sess.run(cross_entropy,feed_dict={x_data: x_valid, \n",
    "                                                           y_data: y_valid, \n",
    "                                                           tf_keep_prob: 1.0})\n",
    "\n",
    "            valid_acc = accuracy.eval(feed_dict={x_data: x_valid, \n",
    "                                                 y_data: y_valid, \n",
    "                                                 tf_keep_prob: 1.0})      \n",
    "\n",
    "            print('%.2f epoch: train/val loss = %.4f/%.4f, train/val acc = %.4f/%.4f'%(\n",
    "                (i+1)*batch_size/x_train.shape[0], train_loss, valid_loss, train_acc, \n",
    "                valid_acc))\n",
    "\n",
    "    \n",
    "    # predictions\n",
    "    y_train_pred_proba = y_pred_proba.eval(feed_dict={x_data: x_train,\n",
    "                                                      tf_keep_prob: 1.0}).flatten()\n",
    "    y_valid_pred_proba = y_pred_proba.eval(feed_dict={x_data: x_valid, \n",
    "                                                      tf_keep_prob: 1.0}).flatten()\n",
    "    y_test_pred_proba = y_pred_proba.eval(feed_dict={x_data: x_test, \n",
    "                                                     tf_keep_prob: 1.0}).flatten()\n",
    "    \n",
    "    sess.close();\n",
    "    \n",
    "\n",
    "    return (y_train_pred_proba, y_valid_pred_proba, y_test_pred_proba)"
   ]
  },
  {
   "cell_type": "code",
   "execution_count": 40,
   "metadata": {
    "collapsed": true
   },
   "outputs": [],
   "source": [
    "# check neural network\n",
    "\n",
    "if False:\n",
    "    \n",
    "    # store results\n",
    "    y_train_pred_proba = {}\n",
    "    y_valid_pred_proba = {}\n",
    "    train_acc = {}\n",
    "    valid_acc = {}\n",
    "    \n",
    "    # create graph and receive tf tensors\n",
    "    tf_tensors = create_nn_graph(x_train_valid.shape[1], 1)\n",
    "\n",
    "    # cross validations\n",
    "    cv_num = 10\n",
    "    kfold = sklearn.model_selection.KFold(cv_num, shuffle=True)\n",
    "\n",
    "    for train_index, valid_index in kfold.split(x_train_valid):\n",
    "\n",
    "        x_train = x_train_valid[train_index]\n",
    "        y_train = y_train_valid[train_index]\n",
    "        x_valid = x_train_valid[valid_index]\n",
    "        y_valid = y_train_valid[valid_index]\n",
    "\n",
    "        # train NN\n",
    "        (y_train_pred_proba['nn'], \n",
    "         y_valid_pred_proba['nn'],\n",
    "         y_test_pred['nn']) = train_nn_graph(tf_tensors, x_train,  \n",
    "                                             y_train.reshape(-1,1), x_valid, \n",
    "                                             y_valid.reshape(-1,1), False)\n",
    "        \n",
    "        # compute accuracy\n",
    "        train_acc['nn'] = get_accuracy(y_train_pred_proba['nn'], y_train)\n",
    "        valid_acc['nn'] = get_accuracy(y_valid_pred_proba['nn'], y_valid)\n",
    "        \n",
    "        # loss\n",
    "        print('nn: train/valid accuracy = %.4f/%.4f'%(train_acc['nn'], valid_acc['nn']))"
   ]
  },
  {
   "cell_type": "markdown",
   "metadata": {},
   "source": [
    "### 4.3 Base models with sklearn <a class=\"anchor\" id=\"4.3-bullet\"></a> "
   ]
  },
  {
   "cell_type": "code",
   "execution_count": 41,
   "metadata": {},
   "outputs": [
    {
     "name": "stdout",
     "output_type": "stream",
     "text": [
      "1 . training of models in progress\n",
      "2 . training of models in progress\n",
      "3 . training of models in progress\n",
      "4 . training of models in progress\n",
      "5 . training of models in progress\n",
      "6 . training of models in progress\n",
      "7 . training of models in progress\n",
      "8 . training of models in progress\n",
      "9 . training of models in progress\n",
      "10 . training of models in progress\n",
      "\n",
      "logreg train/valid accuracy = 0.835/0.825\n",
      "extra_trees train/valid accuracy = 0.849/0.826\n",
      "gradient_boost train/valid accuracy = 0.909/0.817\n",
      "gaussianNB train/valid accuracy = 0.820/0.813\n",
      "random_forest train/valid accuracy = 0.875/0.824\n",
      "decision_tree train/valid accuracy = 0.877/0.807\n",
      "nn train/valid accuracy = 0.827/0.811\n",
      "\n",
      "Average models: ['logreg', 'random_forest', 'decision_tree']\n",
      "Averaged models: train/valid accuracy = 0.862/0.819\n"
     ]
    }
   ],
   "source": [
    "## base models\n",
    "\n",
    "# base models\n",
    "logreg = sklearn.linear_model.LogisticRegression(verbose = 0)\n",
    "extra_trees = sklearn.ensemble.ExtraTreesClassifier(max_depth=6,n_estimators=10)\n",
    "gradient_boost = sklearn.ensemble.GradientBoostingClassifier(max_depth=6,n_estimators=10)\n",
    "random_forest = sklearn.ensemble.RandomForestClassifier(max_depth=6, n_estimators=10)\n",
    "decision_tree = sklearn.tree.DecisionTreeClassifier(max_depth=6)\n",
    "gaussianNB = sklearn.naive_bayes.GaussianNB()\n",
    "\n",
    "# store models in dictionary\n",
    "base_models = {'logreg': logreg, 'extra_trees': extra_trees,\n",
    "               'gradient_boost': gradient_boost, 'random_forest': random_forest, \n",
    "               'decision_tree': decision_tree, 'gaussianNB': gaussianNB}\n",
    "\n",
    "# choose models for out-of-folds predictions\n",
    "take_models = ['logreg', 'extra_trees', 'gradient_boost', 'gaussianNB', \n",
    "               'random_forest', 'decision_tree', 'nn']\n",
    "\n",
    "# train data for meta model\n",
    "train_acc = {}\n",
    "valid_acc = {}\n",
    "y_test_pred_proba = {}\n",
    "y_train_pred_proba = {}\n",
    "y_valid_pred_proba = {}\n",
    "\n",
    "\n",
    "for mn in take_models:\n",
    "    train_acc[mn] = 0\n",
    "    valid_acc[mn] = 0\n",
    "    y_test_pred_proba[mn] = 0\n",
    "\n",
    "# cross validations\n",
    "cv_num = 10\n",
    "kfold = sklearn.model_selection.KFold(cv_num, shuffle=True)\n",
    "\n",
    "# make out-of-folds predictions from base models\n",
    "for i,(train_index, valid_index) in enumerate(kfold.split(x_train_valid)):\n",
    "    \n",
    "    print(i+1,'. training of models in progress')\n",
    "    x_train = x_train_valid[train_index]\n",
    "    y_train = y_train_valid[train_index]\n",
    "    x_valid = x_train_valid[valid_index]\n",
    "    y_valid = y_train_valid[valid_index]\n",
    "\n",
    "    for mn in take_models:\n",
    "        \n",
    "        if mn == 'nn':\n",
    "            # create graph and receive tf tensors\n",
    "            tf_tensors = create_nn_graph(x_train_valid.shape[1], 1)\n",
    "            \n",
    "            # train neural network\n",
    "            params = train_nn_graph(tf_tensors, x_train, y_train.reshape(-1,1),\n",
    "                                    x_valid, y_valid.reshape(-1,1), False) \n",
    "     \n",
    "            # save results\n",
    "            train_acc['nn'] += get_accuracy(params[0], y_train)\n",
    "            valid_acc['nn'] += get_accuracy(params[1], y_valid)\n",
    "            y_test_pred_proba['nn'] += params[2]\n",
    "        \n",
    "        else:\n",
    "            # create cloned model from base models\n",
    "            model = sklearn.base.clone(base_models[mn])\n",
    "            model.fit(x_train, y_train)\n",
    "            \n",
    "            # save results\n",
    "            train_acc[mn] += get_accuracy(model.predict_proba(x_train)[:,1], y_train)\n",
    "            valid_acc[mn] += get_accuracy(model.predict_proba(x_valid)[:,1], y_valid)\n",
    "            y_test_pred_proba[mn] += model.predict_proba(x_test)[:,1]\n",
    "\n",
    "print('')\n",
    "\n",
    "# store and print results\n",
    "for mn in take_models:\n",
    "    \n",
    "    train_acc[mn] /= cv_num\n",
    "    valid_acc[mn] /= cv_num\n",
    "    y_test_pred_proba[mn] /= cv_num\n",
    "        \n",
    "    print(mn,'train/valid accuracy = %.3f/%.3f'%(train_acc[mn], valid_acc[mn]))\n",
    "\n",
    "# average rmse over the following models\n",
    "take_model_avg = ['logreg', 'random_forest', 'decision_tree']\n",
    "\n",
    "train_acc['averaged'] = 0\n",
    "valid_acc['averaged'] = 0\n",
    "y_test_pred_proba['averaged'] = 0\n",
    "\n",
    "for mn in take_model_avg:\n",
    "    train_acc['averaged'] += train_acc[mn]\n",
    "    valid_acc['averaged'] += valid_acc[mn]\n",
    "    y_test_pred_proba['averaged'] += y_test_pred_proba[mn]\n",
    "    \n",
    "train_acc['averaged'] /= len(take_model_avg)\n",
    "valid_acc['averaged'] /= len(take_model_avg)\n",
    "y_test_pred_proba['averaged'] /= len(take_model_avg)\n",
    "\n",
    "print('')\n",
    "print('Average models:', take_model_avg)\n",
    "print('Averaged models: train/valid accuracy = %.3f/%.3f'%(train_acc['averaged'],\n",
    "                                                   valid_acc['averaged']))\n"
   ]
  },
  {
   "cell_type": "markdown",
   "metadata": {},
   "source": [
    "### 4.4 Look at feature importance <a class=\"anchor\" id=\"4.4-bullet\"></a> "
   ]
  },
  {
   "cell_type": "code",
   "execution_count": 42,
   "metadata": {},
   "outputs": [
    {
     "data": {
      "text/plain": [
       "0              Age\n",
       "1             Fare\n",
       "2            Parch\n",
       "3           Pclass\n",
       "4              Sex\n",
       "5            SibSp\n",
       "6       FamilySize\n",
       "7          IsAlone\n",
       "8       NameLength\n",
       "9         HasCabin\n",
       "10      Embarked_C\n",
       "11      Embarked_Q\n",
       "12      Embarked_S\n",
       "13    Title_Master\n",
       "14      Title_Miss\n",
       "15        Title_Mr\n",
       "16       Title_Mrs\n",
       "17      Title_Rare\n",
       "Name: Features, dtype: object"
      ]
     },
     "execution_count": 42,
     "metadata": {},
     "output_type": "execute_result"
    }
   ],
   "source": [
    "# indices of features\n",
    "features_df.Features"
   ]
  },
  {
   "cell_type": "code",
   "execution_count": 43,
   "metadata": {},
   "outputs": [
    {
     "data": {
      "image/png": "[encoded data removed]",
      "text/plain": [
       "<matplotlib.figure.Figure at 0x120b72160>"
      ]
     },
     "metadata": {},
     "output_type": "display_data"
    },
    {
     "data": {
      "image/png": "[encoded data removed]",
      "text/plain": [
       "<matplotlib.figure.Figure at 0x120b547b8>"
      ]
     },
     "metadata": {},
     "output_type": "display_data"
    }
   ],
   "source": [
    "## Look at feature importances using trees\n",
    "\n",
    "for mn in ['random_forest', 'extra_trees']:\n",
    "    \n",
    "    model = sklearn.base.clone(base_models[mn])\n",
    "    model.fit(x_train_valid, y_train_valid)\n",
    "        \n",
    "    ft_importances = model.feature_importances_\n",
    "    std = np.std([tree.feature_importances_ for tree in model.estimators_], axis=0)\n",
    "    indices = np.argsort(ft_importances)[::-1]\n",
    "\n",
    "    # plot feature importances \n",
    "    plt.figure(figsize=(20,10))\n",
    "    plt.title(\"Feature importances\")\n",
    "    plt.bar(range(x_train.shape[1]), ft_importances[indices],\n",
    "           color=\"r\", yerr=std[indices], align=\"center\")\n",
    "    plt.xticks(range(x_train.shape[1]), features_df.Features.loc[indices].values)\n",
    "    plt.xlim([-1, x_train.shape[1]])\n",
    "    plt.show()"
   ]
  },
  {
   "cell_type": "markdown",
   "metadata": {},
   "source": [
    "### 4.5 Comparison of models <a class=\"anchor\" id=\"4.5-bullet\"></a> "
   ]
  },
  {
   "cell_type": "code",
   "execution_count": 44,
   "metadata": {},
   "outputs": [
    {
     "data": {
      "text/html": [
       "<div>\n",
       "<style scoped>\n",
       "    .dataframe tbody tr th:only-of-type {\n",
       "        vertical-align: middle;\n",
       "    }\n",
       "\n",
       "    .dataframe tbody tr th {\n",
       "        vertical-align: top;\n",
       "    }\n",
       "\n",
       "    .dataframe thead th {\n",
       "        text-align: right;\n",
       "    }\n",
       "</style>\n",
       "<table border=\"1\" class=\"dataframe\">\n",
       "  <thead>\n",
       "    <tr style=\"text-align: right;\">\n",
       "      <th></th>\n",
       "      <th>Model</th>\n",
       "      <th>Train Acc</th>\n",
       "      <th>Valid Acc</th>\n",
       "    </tr>\n",
       "  </thead>\n",
       "  <tbody>\n",
       "    <tr>\n",
       "      <th>1</th>\n",
       "      <td>extra_trees</td>\n",
       "      <td>0.848610</td>\n",
       "      <td>0.826042</td>\n",
       "    </tr>\n",
       "    <tr>\n",
       "      <th>0</th>\n",
       "      <td>logreg</td>\n",
       "      <td>0.834643</td>\n",
       "      <td>0.824944</td>\n",
       "    </tr>\n",
       "    <tr>\n",
       "      <th>4</th>\n",
       "      <td>random_forest</td>\n",
       "      <td>0.875172</td>\n",
       "      <td>0.823808</td>\n",
       "    </tr>\n",
       "    <tr>\n",
       "      <th>7</th>\n",
       "      <td>averaged</td>\n",
       "      <td>0.862285</td>\n",
       "      <td>0.818577</td>\n",
       "    </tr>\n",
       "    <tr>\n",
       "      <th>2</th>\n",
       "      <td>gradient_boost</td>\n",
       "      <td>0.908841</td>\n",
       "      <td>0.817091</td>\n",
       "    </tr>\n",
       "    <tr>\n",
       "      <th>3</th>\n",
       "      <td>gaussianNB</td>\n",
       "      <td>0.820052</td>\n",
       "      <td>0.812534</td>\n",
       "    </tr>\n",
       "    <tr>\n",
       "      <th>6</th>\n",
       "      <td>nn</td>\n",
       "      <td>0.826785</td>\n",
       "      <td>0.811473</td>\n",
       "    </tr>\n",
       "    <tr>\n",
       "      <th>5</th>\n",
       "      <td>decision_tree</td>\n",
       "      <td>0.877041</td>\n",
       "      <td>0.806979</td>\n",
       "    </tr>\n",
       "  </tbody>\n",
       "</table>\n",
       "</div>"
      ],
      "text/plain": [
       "            Model  Train Acc  Valid Acc\n",
       "1     extra_trees   0.848610   0.826042\n",
       "0          logreg   0.834643   0.824944\n",
       "4   random_forest   0.875172   0.823808\n",
       "7        averaged   0.862285   0.818577\n",
       "2  gradient_boost   0.908841   0.817091\n",
       "3      gaussianNB   0.820052   0.812534\n",
       "6              nn   0.826785   0.811473\n",
       "5   decision_tree   0.877041   0.806979"
      ]
     },
     "execution_count": 44,
     "metadata": {},
     "output_type": "execute_result"
    }
   ],
   "source": [
    "## summarize the results\n",
    "\n",
    "models_summary = pd.DataFrame({'Model':[],'Train Acc':[],'Valid Acc':[]})\n",
    "\n",
    "for i,mn in enumerate(['logreg', 'extra_trees', 'gradient_boost', 'gaussianNB', \n",
    "                       'random_forest', 'decision_tree', 'nn', 'averaged']):\n",
    "    models_summary.loc[i,'Model'] = mn\n",
    "    models_summary.loc[i,'Train Acc'] = train_acc[mn]\n",
    "    models_summary.loc[i,'Valid Acc'] = valid_acc[mn]\n",
    "    \n",
    "models_summary.sort_values(by='Valid Acc', ascending=False)"
   ]
  },
  {
   "cell_type": "code",
   "execution_count": 45,
   "metadata": {},
   "outputs": [
    {
     "data": {
      "text/plain": [
       "<matplotlib.axes._subplots.AxesSubplot at 0x11f286940>"
      ]
     },
     "execution_count": 45,
     "metadata": {},
     "output_type": "execute_result"
    },
    {
     "data": {
      "image/png": "[encoded data removed]",
      "text/plain": [
       "<matplotlib.figure.Figure at 0x120fcf208>"
      ]
     },
     "metadata": {},
     "output_type": "display_data"
    }
   ],
   "source": [
    "## correlation map of test predictions of the base models\n",
    "\n",
    "y_test_pred_df = pd.DataFrame({})\n",
    "for key in y_test_pred_proba.keys():\n",
    "    y_test_pred_df[key] = get_classes(y_test_pred_proba[key])\n",
    "\n",
    "corrmat = y_test_pred_df.corr()\n",
    "corrmat\n",
    "plt.subplots(figsize=(10,5))\n",
    "plt.title('Correlation of Test Predictions')\n",
    "sns.heatmap(corrmat, vmax=1, square=True)"
   ]
  },
  {
   "cell_type": "code",
   "execution_count": 46,
   "metadata": {},
   "outputs": [
    {
     "data": {
      "text/html": [
       "<div>\n",
       "<style scoped>\n",
       "    .dataframe tbody tr th:only-of-type {\n",
       "        vertical-align: middle;\n",
       "    }\n",
       "\n",
       "    .dataframe tbody tr th {\n",
       "        vertical-align: top;\n",
       "    }\n",
       "\n",
       "    .dataframe thead th {\n",
       "        text-align: right;\n",
       "    }\n",
       "</style>\n",
       "<table border=\"1\" class=\"dataframe\">\n",
       "  <thead>\n",
       "    <tr style=\"text-align: right;\">\n",
       "      <th></th>\n",
       "      <th>logreg</th>\n",
       "      <th>extra_trees</th>\n",
       "      <th>gradient_boost</th>\n",
       "      <th>gaussianNB</th>\n",
       "      <th>random_forest</th>\n",
       "      <th>decision_tree</th>\n",
       "      <th>nn</th>\n",
       "      <th>averaged</th>\n",
       "    </tr>\n",
       "  </thead>\n",
       "  <tbody>\n",
       "    <tr>\n",
       "      <th>count</th>\n",
       "      <td>418.000000</td>\n",
       "      <td>418.000000</td>\n",
       "      <td>418.000000</td>\n",
       "      <td>418.000000</td>\n",
       "      <td>418.000000</td>\n",
       "      <td>418.000000</td>\n",
       "      <td>418.000000</td>\n",
       "      <td>418.000000</td>\n",
       "    </tr>\n",
       "    <tr>\n",
       "      <th>mean</th>\n",
       "      <td>0.370813</td>\n",
       "      <td>0.389952</td>\n",
       "      <td>0.334928</td>\n",
       "      <td>0.430622</td>\n",
       "      <td>0.354067</td>\n",
       "      <td>0.361244</td>\n",
       "      <td>0.397129</td>\n",
       "      <td>0.375598</td>\n",
       "    </tr>\n",
       "    <tr>\n",
       "      <th>std</th>\n",
       "      <td>0.483601</td>\n",
       "      <td>0.488324</td>\n",
       "      <td>0.472531</td>\n",
       "      <td>0.495757</td>\n",
       "      <td>0.478803</td>\n",
       "      <td>0.480937</td>\n",
       "      <td>0.489890</td>\n",
       "      <td>0.484857</td>\n",
       "    </tr>\n",
       "    <tr>\n",
       "      <th>min</th>\n",
       "      <td>0.000000</td>\n",
       "      <td>0.000000</td>\n",
       "      <td>0.000000</td>\n",
       "      <td>0.000000</td>\n",
       "      <td>0.000000</td>\n",
       "      <td>0.000000</td>\n",
       "      <td>0.000000</td>\n",
       "      <td>0.000000</td>\n",
       "    </tr>\n",
       "    <tr>\n",
       "      <th>25%</th>\n",
       "      <td>0.000000</td>\n",
       "      <td>0.000000</td>\n",
       "      <td>0.000000</td>\n",
       "      <td>0.000000</td>\n",
       "      <td>0.000000</td>\n",
       "      <td>0.000000</td>\n",
       "      <td>0.000000</td>\n",
       "      <td>0.000000</td>\n",
       "    </tr>\n",
       "    <tr>\n",
       "      <th>50%</th>\n",
       "      <td>0.000000</td>\n",
       "      <td>0.000000</td>\n",
       "      <td>0.000000</td>\n",
       "      <td>0.000000</td>\n",
       "      <td>0.000000</td>\n",
       "      <td>0.000000</td>\n",
       "      <td>0.000000</td>\n",
       "      <td>0.000000</td>\n",
       "    </tr>\n",
       "    <tr>\n",
       "      <th>75%</th>\n",
       "      <td>1.000000</td>\n",
       "      <td>1.000000</td>\n",
       "      <td>1.000000</td>\n",
       "      <td>1.000000</td>\n",
       "      <td>1.000000</td>\n",
       "      <td>1.000000</td>\n",
       "      <td>1.000000</td>\n",
       "      <td>1.000000</td>\n",
       "    </tr>\n",
       "    <tr>\n",
       "      <th>max</th>\n",
       "      <td>1.000000</td>\n",
       "      <td>1.000000</td>\n",
       "      <td>1.000000</td>\n",
       "      <td>1.000000</td>\n",
       "      <td>1.000000</td>\n",
       "      <td>1.000000</td>\n",
       "      <td>1.000000</td>\n",
       "      <td>1.000000</td>\n",
       "    </tr>\n",
       "  </tbody>\n",
       "</table>\n",
       "</div>"
      ],
      "text/plain": [
       "           logreg  extra_trees  gradient_boost  gaussianNB  random_forest  \\\n",
       "count  418.000000   418.000000      418.000000  418.000000     418.000000   \n",
       "mean     0.370813     0.389952        0.334928    0.430622       0.354067   \n",
       "std      0.483601     0.488324        0.472531    0.495757       0.478803   \n",
       "min      0.000000     0.000000        0.000000    0.000000       0.000000   \n",
       "25%      0.000000     0.000000        0.000000    0.000000       0.000000   \n",
       "50%      0.000000     0.000000        0.000000    0.000000       0.000000   \n",
       "75%      1.000000     1.000000        1.000000    1.000000       1.000000   \n",
       "max      1.000000     1.000000        1.000000    1.000000       1.000000   \n",
       "\n",
       "       decision_tree          nn    averaged  \n",
       "count     418.000000  418.000000  418.000000  \n",
       "mean        0.361244    0.397129    0.375598  \n",
       "std         0.480937    0.489890    0.484857  \n",
       "min         0.000000    0.000000    0.000000  \n",
       "25%         0.000000    0.000000    0.000000  \n",
       "50%         0.000000    0.000000    0.000000  \n",
       "75%         1.000000    1.000000    1.000000  \n",
       "max         1.000000    1.000000    1.000000  "
      ]
     },
     "execution_count": 46,
     "metadata": {},
     "output_type": "execute_result"
    }
   ],
   "source": [
    "y_test_pred_df.describe()"
   ]
  },
  {
   "cell_type": "markdown",
   "metadata": {},
   "source": [
    "### 4.6 Stacking of models <a class=\"anchor\" id=\"4.6-bullet\"></a> "
   ]
  },
  {
   "cell_type": "code",
   "execution_count": 47,
   "metadata": {},
   "outputs": [
    {
     "name": "stdout",
     "output_type": "stream",
     "text": [
      "Out-of-folds predictions:\n",
      "logreg : train/valid accuracy = 0.832/0.836\n",
      "extra_trees : train/valid accuracy = 0.860/0.805\n",
      "gaussianNB : train/valid accuracy = 0.815/0.827\n",
      "nn : train/valid accuracy = 0.848/0.780\n",
      "decision_tree : train/valid accuracy = 0.885/0.803\n",
      "random_forest : train/valid accuracy = 0.869/0.835\n",
      "gradient_boost : train/valid accuracy = 0.910/0.827\n",
      "\n",
      "Stacked models: valid accuracy = 0.816\n",
      "Meta model: train accuracy = 0.987\n"
     ]
    }
   ],
   "source": [
    "## Stacking of base models\n",
    "\n",
    "# choose models for out-of-folds predictions\n",
    "#take_models = ['logreg','logreg','extra_trees','extra_trees','nn','nn',\n",
    "#               'random_forest','random_forest','gradient_boost','gradient_boost']\n",
    "\n",
    "take_models = ['logreg','extra_trees','gaussianNB','nn','decision_tree',\n",
    "               'random_forest','gradient_boost']\n",
    "\n",
    "# choose meta model\n",
    "take_meta_model = 'logreg'\n",
    "\n",
    "# cross validations\n",
    "kfold = sklearn.model_selection.KFold(len(take_models), shuffle=True)\n",
    "\n",
    "# train data for meta model\n",
    "x_train_meta = np.array([])\n",
    "y_train_meta = np.array([])\n",
    "x_test_meta = np.zeros(x_test.shape[0])\n",
    "\n",
    "print('Out-of-folds predictions:')\n",
    "\n",
    "# make out-of-folds predictions from base models\n",
    "for i,(train_index, valid_index) in enumerate(kfold.split(x_train_valid)):\n",
    "    \n",
    "    x_train = x_train_valid[train_index]\n",
    "    y_train = y_train_valid[train_index]\n",
    "    x_valid = x_train_valid[valid_index]\n",
    "    y_valid = y_train_valid[valid_index]\n",
    "    \n",
    "    if take_models[i] == 'nn':\n",
    "        # create graph and receive tf tensors\n",
    "        tf_tensors = create_nn_graph(x_train_valid.shape[1],1)\n",
    "\n",
    "        # train neural network\n",
    "        params = train_nn_graph(tf_tensors, x_train, y_train.reshape(-1,1),\n",
    "                                x_valid, y_valid.reshape(-1,1), False) \n",
    "\n",
    "        # save results\n",
    "        y_train_pred_proba['tmp'] = params[0].reshape(-1,)\n",
    "        y_valid_pred_proba['tmp'] = params[1].reshape(-1,) \n",
    "        y_test_pred_proba['tmp'] = params[2].reshape(-1,)\n",
    "        \n",
    "    else:\n",
    "        # create cloned model from base models\n",
    "        model = sklearn.base.clone(base_models[take_models[i]])\n",
    "        model.fit(x_train, y_train)\n",
    "        y_train_pred_proba['tmp'] = model.predict_proba(x_train)[:,1]\n",
    "        y_valid_pred_proba['tmp'] = model.predict_proba(x_valid)[:,1]\n",
    "        y_test_pred_proba['tmp'] = model.predict_proba(x_test)[:,1]\n",
    "\n",
    "    # collect train and test data for meta model \n",
    "    x_train_meta = np.concatenate([x_train_meta, y_valid_pred_proba['tmp']])\n",
    "    y_train_meta = np.concatenate([y_train_meta, y_valid]) \n",
    "    x_test_meta += y_test_pred_proba['tmp']\n",
    "    \n",
    "    print(take_models[i],': train/valid accuracy = %.3f/%.3f'%(\n",
    "        get_accuracy(y_train_pred_proba['tmp'], y_train),\n",
    "        get_accuracy(y_valid_pred_proba['tmp'], y_valid)))\n",
    " \n",
    "x_train_meta = x_train_meta.reshape(-1,1)\n",
    "x_test_meta = (x_test_meta/len(take_models)).reshape(-1,1)\n",
    "y_test_pred_proba['stacked'] = x_test_meta\n",
    "\n",
    "print('')\n",
    "print('Stacked models: valid accuracy = %.3f'%get_accuracy(x_train_meta, y_train_meta))\n",
    "\n",
    "# train meta model\n",
    "model = sklearn.base.clone(base_models[take_meta_model]) \n",
    "model.fit(x_train_meta, y_train_meta)\n",
    "y_train_pred_proba['meta model'] = model.predict_proba(x_train_meta)[:,1]\n",
    "y_test_pred_proba['meta model'] = model.predict_proba(x_test_meta)[:,1]\n",
    "\n",
    "print('Meta model: train accuracy = %.3f'%get_accuracy(x_train_meta, \n",
    "                                                       y_train_pred_proba['meta model']))"
   ]
  },
  {
   "cell_type": "markdown",
   "metadata": {},
   "source": [
    "# 5. Predict and submit test results <a class=\"anchor\" id=\"5-bullet\"></a> "
   ]
  },
  {
   "cell_type": "code",
   "execution_count": 48,
   "metadata": {},
   "outputs": [
    {
     "data": {
      "text/plain": [
       "0.38755980861244022"
      ]
     },
     "execution_count": 48,
     "metadata": {},
     "output_type": "execute_result"
    }
   ],
   "source": [
    "# choose prediction\n",
    "y_test_submit = get_classes(y_test_pred_proba['meta model'])\n",
    "y_test_submit.mean()"
   ]
  },
  {
   "cell_type": "code",
   "execution_count": 49,
   "metadata": {},
   "outputs": [
    {
     "data": {
      "text/html": [
       "<div>\n",
       "<style scoped>\n",
       "    .dataframe tbody tr th:only-of-type {\n",
       "        vertical-align: middle;\n",
       "    }\n",
       "\n",
       "    .dataframe tbody tr th {\n",
       "        vertical-align: top;\n",
       "    }\n",
       "\n",
       "    .dataframe thead th {\n",
       "        text-align: right;\n",
       "    }\n",
       "</style>\n",
       "<table border=\"1\" class=\"dataframe\">\n",
       "  <thead>\n",
       "    <tr style=\"text-align: right;\">\n",
       "      <th></th>\n",
       "      <th>PassengerId</th>\n",
       "      <th>Survived</th>\n",
       "    </tr>\n",
       "  </thead>\n",
       "  <tbody>\n",
       "    <tr>\n",
       "      <th>0</th>\n",
       "      <td>892</td>\n",
       "      <td>0</td>\n",
       "    </tr>\n",
       "    <tr>\n",
       "      <th>1</th>\n",
       "      <td>893</td>\n",
       "      <td>1</td>\n",
       "    </tr>\n",
       "    <tr>\n",
       "      <th>2</th>\n",
       "      <td>894</td>\n",
       "      <td>0</td>\n",
       "    </tr>\n",
       "    <tr>\n",
       "      <th>3</th>\n",
       "      <td>895</td>\n",
       "      <td>0</td>\n",
       "    </tr>\n",
       "    <tr>\n",
       "      <th>4</th>\n",
       "      <td>896</td>\n",
       "      <td>1</td>\n",
       "    </tr>\n",
       "  </tbody>\n",
       "</table>\n",
       "</div>"
      ],
      "text/plain": [
       "   PassengerId  Survived\n",
       "0          892         0\n",
       "1          893         1\n",
       "2          894         0\n",
       "3          895         0\n",
       "4          896         1"
      ]
     },
     "execution_count": 49,
     "metadata": {},
     "output_type": "execute_result"
    }
   ],
   "source": [
    "# submit prediction\n",
    "submission = pd.DataFrame({\n",
    "        \"PassengerId\": test_df[\"PassengerId\"],\n",
    "        \"Survived\": y_test_submit\n",
    "    })\n",
    "\n",
    "submission.to_csv('submission.csv', index=False)\n",
    "submission.head()"
   ]
  },
  {
   "cell_type": "code",
   "execution_count": null,
   "metadata": {
    "collapsed": true
   },
   "outputs": [],
   "source": []
  }
 ],
 "metadata": {
  "kernelspec": {
   "display_name": "Python 3",
   "language": "python",
   "name": "python3"
  },
  "language_info": {
   "codemirror_mode": {
    "name": "ipython",
    "version": 3
   },
   "file_extension": ".py",
   "mimetype": "text/x-python",
   "name": "python",
   "nbconvert_exporter": "python",
   "pygments_lexer": "ipython3",
   "version": "3.6.1"
  }
 },
 "nbformat": 4,
 "nbformat_minor": 1
}
