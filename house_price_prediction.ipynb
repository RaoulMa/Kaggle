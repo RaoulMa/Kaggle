{
 "cells": [
  {
   "cell_type": "markdown",
   "metadata": {
    "_cell_guid": "f5632012-2c52-4113-88a4-768564e62596",
    "_uuid": "8b420da89ee6828721553e4533eb6cb4ee2db179"
   },
   "source": [
    "**Author:** Raoul Malm\n",
    "\n",
    "**Abstract:** \n",
    "\n",
    "Given are a training and test data set where each entry contains 80 features that are related to house properties. For the training set which has 4160 entries we know the actual sale prices for each house. The goal is to predict the unknown sale prices for the 4159 entries of the test set. This is a supervised regression problem. After analyzing the data we correct, convert, delete and create new features. We check the correlation of the features and their importance on the sale price. After the feature selection we model the data and try single and ensembles of models. Finally we predict and submit the test results. The precision of each model is evaluated by the root-mean-squared error (rmse) of the logarithm of the sale prices.\n",
    "\n",
    "**Results:** \n",
    "\n",
    "- When we use single (base) models trained with 10-fold cross-valdidation we can achieve an average root-mean-squared error of about 0.124 on the validation set. Lasso regression gives very good results.\n",
    "\n",
    "- We can stack different base models and train a meta-model on their out-of-fold predictions. Combining Lasso regression and gboost regression achieves a root-mean-squared error of 0.11710 on the test set.\n",
    "\n",
    "- We also implement a simple neural network but it underperforms with respect to the other base models.\n",
    "\n",
    "\n",
    "**Outline:**\n",
    "\n",
    "1. [Libraries and settings](#1-bullet)  \n",
    "2. [Analyze and manipulate data](#2-bullet)  \n",
    "2.1 [First look](#2.1-bullet)  \n",
    "2.2 [Target feature SalePrice](#2.2-bullet)  \n",
    "2.3 [Correct missing data](#2.3-bullet)  \n",
    "2.4 [Convert and create new features](#2.4-bullet)  \n",
    "2.5 [Check correlation of features](#2.5-bullet)  \n",
    "2.6 [Final feature selection](#2.6-bullet)  \n",
    "3. [Model and validate data](#3-bullet)    \n",
    "3.1 [Split training/validation/test data](#3.1-bullet)   \n",
    "3.2 [Neural network implementation](#3.2-bullet)  \n",
    "3.3 [Base models and model averaging](#3.3-bullet)     \n",
    "3.4 [Stacking of models and meta model prediction](#3.4-bullet)    \n",
    "4. [Predict and submit test results](#4-bullet)    \n",
    "\n",
    "**References:**\n",
    "\n",
    "[Stacked Regressions : Top 4% on LeaderBoard by Serigne](https://www.kaggle.com/serigne/stacked-regressions-top-4-on-leaderboard)\n",
    "\n",
    "[Comprehensive data exploration with Python by Pedro Marcelino](https://www.kaggle.com/pmarcelino/comprehensive-data-exploration-with-python)"
   ]
  },
  {
   "cell_type": "markdown",
   "metadata": {
    "_cell_guid": "2a974f7d-1d37-451d-951f-c315636719cd",
    "_uuid": "65c5f800201c7993c02b0fa0ace099229ef08132"
   },
   "source": [
    "# 1. Libraries and settings <a class=\"anchor\" id=\"1-bullet\"></a>"
   ]
  },
  {
   "cell_type": "code",
   "execution_count": 1,
   "metadata": {
    "_cell_guid": "b93107a8-4967-48df-aa9b-519906bcaecf",
    "_uuid": "829b620b9a57ef33ea9fa543ee3b2ab9d82f951f"
   },
   "outputs": [
    {
     "name": "stdout",
     "output_type": "stream",
     "text": [
      "sample_submission.csv.gz\n",
      "test.csv\n",
      "train.csv\n",
      "\n"
     ]
    }
   ],
   "source": [
    "import numpy as np  \n",
    "import pandas as pd  \n",
    "import scipy.stats   \n",
    "import scipy.special  \n",
    "import subprocess\n",
    "import sklearn.linear_model\n",
    "import sklearn.model_selection\n",
    "import sklearn.pipeline  \n",
    "import sklearn.preprocessing  \n",
    "import sklearn.ensemble  \n",
    "import sklearn.kernel_ridge \n",
    "import tensorflow as tf\n",
    "\n",
    "import matplotlib.pyplot as plt\n",
    "%matplotlib inline\n",
    "import seaborn as sns\n",
    "color = sns.color_palette()\n",
    "sns.set_style('darkgrid')\n",
    "\n",
    "# check the files available in the directory\n",
    "print(subprocess.check_output([\"ls\", \"../input\"]).decode(\"utf8\")) "
   ]
  },
  {
   "cell_type": "markdown",
   "metadata": {
    "_cell_guid": "733e75b9-a594-4bfb-96a9-02e15b247e63",
    "_uuid": "b5d8cdeada57349fe67521c04922b948d839a476"
   },
   "source": [
    "# 2. Analyze and manipulate data <a class=\"anchor\" id=\"2-bullet\"></a>"
   ]
  },
  {
   "cell_type": "markdown",
   "metadata": {
    "_cell_guid": "a0c6c54e-71de-4454-bce0-f5e8444db8a3",
    "_uuid": "6f41ee47b5065996606a6ea30f2b3c755720118a"
   },
   "source": [
    "### 2.1 First look  <a class=\"anchor\" id=\"2.1-bullet\"></a>"
   ]
  },
  {
   "cell_type": "code",
   "execution_count": 2,
   "metadata": {
    "_cell_guid": "367472e6-d4da-4295-90ce-d46ae7591673",
    "_uuid": "2018209ae12e205ec2e024fe4df0c8f42c75fb01"
   },
   "outputs": [
    {
     "name": "stdout",
     "output_type": "stream",
     "text": [
      "train_df.shape =  (1460, 81)\n",
      "test_df.shape =  (1459, 80)\n"
     ]
    }
   ],
   "source": [
    "## import train and test data\n",
    "\n",
    "train_df = pd.read_csv('../input/train.csv')\n",
    "test_df = pd.read_csv('../input/test.csv')\n",
    "\n",
    "print('train_df.shape = ', train_df.shape)\n",
    "print('test_df.shape = ', test_df.shape)"
   ]
  },
  {
   "cell_type": "code",
   "execution_count": 3,
   "metadata": {
    "_cell_guid": "12c2fc16-e937-491f-9e0e-cb61ad03669f",
    "_uuid": "13262d7130fc5e410d73212f8af8df455b74f614"
   },
   "outputs": [
    {
     "name": "stdout",
     "output_type": "stream",
     "text": [
      "38 numerical columns\n",
      "43 categorial columns\n"
     ]
    },
    {
     "data": {
      "text/plain": [
       "array(['Id', 'MSSubClass', 'MSZoning', 'LotFrontage', 'LotArea', 'Street',\n",
       "       'Alley', 'LotShape', 'LandContour', 'Utilities', 'LotConfig',\n",
       "       'LandSlope', 'Neighborhood', 'Condition1', 'Condition2', 'BldgType',\n",
       "       'HouseStyle', 'OverallQual', 'OverallCond', 'YearBuilt',\n",
       "       'YearRemodAdd', 'RoofStyle', 'RoofMatl', 'Exterior1st',\n",
       "       'Exterior2nd', 'MasVnrType', 'MasVnrArea', 'ExterQual', 'ExterCond',\n",
       "       'Foundation', 'BsmtQual', 'BsmtCond', 'BsmtExposure',\n",
       "       'BsmtFinType1', 'BsmtFinSF1', 'BsmtFinType2', 'BsmtFinSF2',\n",
       "       'BsmtUnfSF', 'TotalBsmtSF', 'Heating', 'HeatingQC', 'CentralAir',\n",
       "       'Electrical', '1stFlrSF', '2ndFlrSF', 'LowQualFinSF', 'GrLivArea',\n",
       "       'BsmtFullBath', 'BsmtHalfBath', 'FullBath', 'HalfBath',\n",
       "       'BedroomAbvGr', 'KitchenAbvGr', 'KitchenQual', 'TotRmsAbvGrd',\n",
       "       'Functional', 'Fireplaces', 'FireplaceQu', 'GarageType',\n",
       "       'GarageYrBlt', 'GarageFinish', 'GarageCars', 'GarageArea',\n",
       "       'GarageQual', 'GarageCond', 'PavedDrive', 'WoodDeckSF',\n",
       "       'OpenPorchSF', 'EnclosedPorch', '3SsnPorch', 'ScreenPorch',\n",
       "       'PoolArea', 'PoolQC', 'Fence', 'MiscFeature', 'MiscVal', 'MoSold',\n",
       "       'YrSold', 'SaleType', 'SaleCondition', 'SalePrice'], dtype=object)"
      ]
     },
     "execution_count": 3,
     "metadata": {},
     "output_type": "execute_result"
    }
   ],
   "source": [
    "## show all features\n",
    "\n",
    "num_of_numerical_cols = train_df._get_numeric_data().columns.shape[0]\n",
    "print(num_of_numerical_cols, 'numerical columns')\n",
    "print(train_df.shape[1]-num_of_numerical_cols, 'categorial columns')\n",
    "train_df.columns.values"
   ]
  },
  {
   "cell_type": "code",
   "execution_count": 4,
   "metadata": {
    "_cell_guid": "cc87a8d5-5233-4e04-9757-c93587ee5908",
    "_uuid": "0aba5f9dafde8d87f6d118bb6e14b702f68ba5f5",
    "collapsed": true
   },
   "outputs": [],
   "source": [
    "#train_df.info()"
   ]
  },
  {
   "cell_type": "code",
   "execution_count": 5,
   "metadata": {
    "_cell_guid": "483f189b-e5dd-4b59-9e78-12e9ba3c775e",
    "_uuid": "42c9745d008f1d41d1785ac073f46be3026a8fc6",
    "collapsed": true
   },
   "outputs": [],
   "source": [
    "#test_df.info()"
   ]
  },
  {
   "cell_type": "code",
   "execution_count": 6,
   "metadata": {
    "_cell_guid": "9220ddc1-5fcd-402f-b56f-ba209fccdc37",
    "_uuid": "d2388419a68478d4ca990f3b3afe7b17bbb61a49"
   },
   "outputs": [
    {
     "data": {
      "text/html": [
       "<div>\n",
       "<style scoped>\n",
       "    .dataframe tbody tr th:only-of-type {\n",
       "        vertical-align: middle;\n",
       "    }\n",
       "\n",
       "    .dataframe tbody tr th {\n",
       "        vertical-align: top;\n",
       "    }\n",
       "\n",
       "    .dataframe thead th {\n",
       "        text-align: right;\n",
       "    }\n",
       "</style>\n",
       "<table border=\"1\" class=\"dataframe\">\n",
       "  <thead>\n",
       "    <tr style=\"text-align: right;\">\n",
       "      <th></th>\n",
       "      <th>Id</th>\n",
       "      <th>MSSubClass</th>\n",
       "      <th>MSZoning</th>\n",
       "      <th>LotFrontage</th>\n",
       "      <th>LotArea</th>\n",
       "      <th>Street</th>\n",
       "      <th>Alley</th>\n",
       "      <th>LotShape</th>\n",
       "      <th>LandContour</th>\n",
       "      <th>Utilities</th>\n",
       "      <th>...</th>\n",
       "      <th>PoolArea</th>\n",
       "      <th>PoolQC</th>\n",
       "      <th>Fence</th>\n",
       "      <th>MiscFeature</th>\n",
       "      <th>MiscVal</th>\n",
       "      <th>MoSold</th>\n",
       "      <th>YrSold</th>\n",
       "      <th>SaleType</th>\n",
       "      <th>SaleCondition</th>\n",
       "      <th>SalePrice</th>\n",
       "    </tr>\n",
       "  </thead>\n",
       "  <tbody>\n",
       "    <tr>\n",
       "      <th>0</th>\n",
       "      <td>1</td>\n",
       "      <td>60</td>\n",
       "      <td>RL</td>\n",
       "      <td>65.0</td>\n",
       "      <td>8450</td>\n",
       "      <td>Pave</td>\n",
       "      <td>NaN</td>\n",
       "      <td>Reg</td>\n",
       "      <td>Lvl</td>\n",
       "      <td>AllPub</td>\n",
       "      <td>...</td>\n",
       "      <td>0</td>\n",
       "      <td>NaN</td>\n",
       "      <td>NaN</td>\n",
       "      <td>NaN</td>\n",
       "      <td>0</td>\n",
       "      <td>2</td>\n",
       "      <td>2008</td>\n",
       "      <td>WD</td>\n",
       "      <td>Normal</td>\n",
       "      <td>208500</td>\n",
       "    </tr>\n",
       "    <tr>\n",
       "      <th>1</th>\n",
       "      <td>2</td>\n",
       "      <td>20</td>\n",
       "      <td>RL</td>\n",
       "      <td>80.0</td>\n",
       "      <td>9600</td>\n",
       "      <td>Pave</td>\n",
       "      <td>NaN</td>\n",
       "      <td>Reg</td>\n",
       "      <td>Lvl</td>\n",
       "      <td>AllPub</td>\n",
       "      <td>...</td>\n",
       "      <td>0</td>\n",
       "      <td>NaN</td>\n",
       "      <td>NaN</td>\n",
       "      <td>NaN</td>\n",
       "      <td>0</td>\n",
       "      <td>5</td>\n",
       "      <td>2007</td>\n",
       "      <td>WD</td>\n",
       "      <td>Normal</td>\n",
       "      <td>181500</td>\n",
       "    </tr>\n",
       "    <tr>\n",
       "      <th>2</th>\n",
       "      <td>3</td>\n",
       "      <td>60</td>\n",
       "      <td>RL</td>\n",
       "      <td>68.0</td>\n",
       "      <td>11250</td>\n",
       "      <td>Pave</td>\n",
       "      <td>NaN</td>\n",
       "      <td>IR1</td>\n",
       "      <td>Lvl</td>\n",
       "      <td>AllPub</td>\n",
       "      <td>...</td>\n",
       "      <td>0</td>\n",
       "      <td>NaN</td>\n",
       "      <td>NaN</td>\n",
       "      <td>NaN</td>\n",
       "      <td>0</td>\n",
       "      <td>9</td>\n",
       "      <td>2008</td>\n",
       "      <td>WD</td>\n",
       "      <td>Normal</td>\n",
       "      <td>223500</td>\n",
       "    </tr>\n",
       "    <tr>\n",
       "      <th>3</th>\n",
       "      <td>4</td>\n",
       "      <td>70</td>\n",
       "      <td>RL</td>\n",
       "      <td>60.0</td>\n",
       "      <td>9550</td>\n",
       "      <td>Pave</td>\n",
       "      <td>NaN</td>\n",
       "      <td>IR1</td>\n",
       "      <td>Lvl</td>\n",
       "      <td>AllPub</td>\n",
       "      <td>...</td>\n",
       "      <td>0</td>\n",
       "      <td>NaN</td>\n",
       "      <td>NaN</td>\n",
       "      <td>NaN</td>\n",
       "      <td>0</td>\n",
       "      <td>2</td>\n",
       "      <td>2006</td>\n",
       "      <td>WD</td>\n",
       "      <td>Abnorml</td>\n",
       "      <td>140000</td>\n",
       "    </tr>\n",
       "    <tr>\n",
       "      <th>4</th>\n",
       "      <td>5</td>\n",
       "      <td>60</td>\n",
       "      <td>RL</td>\n",
       "      <td>84.0</td>\n",
       "      <td>14260</td>\n",
       "      <td>Pave</td>\n",
       "      <td>NaN</td>\n",
       "      <td>IR1</td>\n",
       "      <td>Lvl</td>\n",
       "      <td>AllPub</td>\n",
       "      <td>...</td>\n",
       "      <td>0</td>\n",
       "      <td>NaN</td>\n",
       "      <td>NaN</td>\n",
       "      <td>NaN</td>\n",
       "      <td>0</td>\n",
       "      <td>12</td>\n",
       "      <td>2008</td>\n",
       "      <td>WD</td>\n",
       "      <td>Normal</td>\n",
       "      <td>250000</td>\n",
       "    </tr>\n",
       "  </tbody>\n",
       "</table>\n",
       "<p>5 rows × 81 columns</p>\n",
       "</div>"
      ],
      "text/plain": [
       "   Id  MSSubClass MSZoning  LotFrontage  LotArea Street Alley LotShape  \\\n",
       "0   1          60       RL         65.0     8450   Pave   NaN      Reg   \n",
       "1   2          20       RL         80.0     9600   Pave   NaN      Reg   \n",
       "2   3          60       RL         68.0    11250   Pave   NaN      IR1   \n",
       "3   4          70       RL         60.0     9550   Pave   NaN      IR1   \n",
       "4   5          60       RL         84.0    14260   Pave   NaN      IR1   \n",
       "\n",
       "  LandContour Utilities    ...     PoolArea PoolQC Fence MiscFeature MiscVal  \\\n",
       "0         Lvl    AllPub    ...            0    NaN   NaN         NaN       0   \n",
       "1         Lvl    AllPub    ...            0    NaN   NaN         NaN       0   \n",
       "2         Lvl    AllPub    ...            0    NaN   NaN         NaN       0   \n",
       "3         Lvl    AllPub    ...            0    NaN   NaN         NaN       0   \n",
       "4         Lvl    AllPub    ...            0    NaN   NaN         NaN       0   \n",
       "\n",
       "  MoSold YrSold  SaleType  SaleCondition  SalePrice  \n",
       "0      2   2008        WD         Normal     208500  \n",
       "1      5   2007        WD         Normal     181500  \n",
       "2      9   2008        WD         Normal     223500  \n",
       "3      2   2006        WD        Abnorml     140000  \n",
       "4     12   2008        WD         Normal     250000  \n",
       "\n",
       "[5 rows x 81 columns]"
      ]
     },
     "execution_count": 6,
     "metadata": {},
     "output_type": "execute_result"
    }
   ],
   "source": [
    "train_df.head()"
   ]
  },
  {
   "cell_type": "code",
   "execution_count": 7,
   "metadata": {
    "_cell_guid": "f2b58e43-b097-4bc9-b548-0c4834ff5560",
    "_uuid": "91fff85e473109f7b741fe5071f27fe0929ccee0"
   },
   "outputs": [
    {
     "data": {
      "text/html": [
       "<div>\n",
       "<style scoped>\n",
       "    .dataframe tbody tr th:only-of-type {\n",
       "        vertical-align: middle;\n",
       "    }\n",
       "\n",
       "    .dataframe tbody tr th {\n",
       "        vertical-align: top;\n",
       "    }\n",
       "\n",
       "    .dataframe thead th {\n",
       "        text-align: right;\n",
       "    }\n",
       "</style>\n",
       "<table border=\"1\" class=\"dataframe\">\n",
       "  <thead>\n",
       "    <tr style=\"text-align: right;\">\n",
       "      <th></th>\n",
       "      <th>Id</th>\n",
       "      <th>MSSubClass</th>\n",
       "      <th>MSZoning</th>\n",
       "      <th>LotFrontage</th>\n",
       "      <th>LotArea</th>\n",
       "      <th>Street</th>\n",
       "      <th>Alley</th>\n",
       "      <th>LotShape</th>\n",
       "      <th>LandContour</th>\n",
       "      <th>Utilities</th>\n",
       "      <th>...</th>\n",
       "      <th>ScreenPorch</th>\n",
       "      <th>PoolArea</th>\n",
       "      <th>PoolQC</th>\n",
       "      <th>Fence</th>\n",
       "      <th>MiscFeature</th>\n",
       "      <th>MiscVal</th>\n",
       "      <th>MoSold</th>\n",
       "      <th>YrSold</th>\n",
       "      <th>SaleType</th>\n",
       "      <th>SaleCondition</th>\n",
       "    </tr>\n",
       "  </thead>\n",
       "  <tbody>\n",
       "    <tr>\n",
       "      <th>0</th>\n",
       "      <td>1461</td>\n",
       "      <td>20</td>\n",
       "      <td>RH</td>\n",
       "      <td>80.0</td>\n",
       "      <td>11622</td>\n",
       "      <td>Pave</td>\n",
       "      <td>NaN</td>\n",
       "      <td>Reg</td>\n",
       "      <td>Lvl</td>\n",
       "      <td>AllPub</td>\n",
       "      <td>...</td>\n",
       "      <td>120</td>\n",
       "      <td>0</td>\n",
       "      <td>NaN</td>\n",
       "      <td>MnPrv</td>\n",
       "      <td>NaN</td>\n",
       "      <td>0</td>\n",
       "      <td>6</td>\n",
       "      <td>2010</td>\n",
       "      <td>WD</td>\n",
       "      <td>Normal</td>\n",
       "    </tr>\n",
       "    <tr>\n",
       "      <th>1</th>\n",
       "      <td>1462</td>\n",
       "      <td>20</td>\n",
       "      <td>RL</td>\n",
       "      <td>81.0</td>\n",
       "      <td>14267</td>\n",
       "      <td>Pave</td>\n",
       "      <td>NaN</td>\n",
       "      <td>IR1</td>\n",
       "      <td>Lvl</td>\n",
       "      <td>AllPub</td>\n",
       "      <td>...</td>\n",
       "      <td>0</td>\n",
       "      <td>0</td>\n",
       "      <td>NaN</td>\n",
       "      <td>NaN</td>\n",
       "      <td>Gar2</td>\n",
       "      <td>12500</td>\n",
       "      <td>6</td>\n",
       "      <td>2010</td>\n",
       "      <td>WD</td>\n",
       "      <td>Normal</td>\n",
       "    </tr>\n",
       "    <tr>\n",
       "      <th>2</th>\n",
       "      <td>1463</td>\n",
       "      <td>60</td>\n",
       "      <td>RL</td>\n",
       "      <td>74.0</td>\n",
       "      <td>13830</td>\n",
       "      <td>Pave</td>\n",
       "      <td>NaN</td>\n",
       "      <td>IR1</td>\n",
       "      <td>Lvl</td>\n",
       "      <td>AllPub</td>\n",
       "      <td>...</td>\n",
       "      <td>0</td>\n",
       "      <td>0</td>\n",
       "      <td>NaN</td>\n",
       "      <td>MnPrv</td>\n",
       "      <td>NaN</td>\n",
       "      <td>0</td>\n",
       "      <td>3</td>\n",
       "      <td>2010</td>\n",
       "      <td>WD</td>\n",
       "      <td>Normal</td>\n",
       "    </tr>\n",
       "    <tr>\n",
       "      <th>3</th>\n",
       "      <td>1464</td>\n",
       "      <td>60</td>\n",
       "      <td>RL</td>\n",
       "      <td>78.0</td>\n",
       "      <td>9978</td>\n",
       "      <td>Pave</td>\n",
       "      <td>NaN</td>\n",
       "      <td>IR1</td>\n",
       "      <td>Lvl</td>\n",
       "      <td>AllPub</td>\n",
       "      <td>...</td>\n",
       "      <td>0</td>\n",
       "      <td>0</td>\n",
       "      <td>NaN</td>\n",
       "      <td>NaN</td>\n",
       "      <td>NaN</td>\n",
       "      <td>0</td>\n",
       "      <td>6</td>\n",
       "      <td>2010</td>\n",
       "      <td>WD</td>\n",
       "      <td>Normal</td>\n",
       "    </tr>\n",
       "    <tr>\n",
       "      <th>4</th>\n",
       "      <td>1465</td>\n",
       "      <td>120</td>\n",
       "      <td>RL</td>\n",
       "      <td>43.0</td>\n",
       "      <td>5005</td>\n",
       "      <td>Pave</td>\n",
       "      <td>NaN</td>\n",
       "      <td>IR1</td>\n",
       "      <td>HLS</td>\n",
       "      <td>AllPub</td>\n",
       "      <td>...</td>\n",
       "      <td>144</td>\n",
       "      <td>0</td>\n",
       "      <td>NaN</td>\n",
       "      <td>NaN</td>\n",
       "      <td>NaN</td>\n",
       "      <td>0</td>\n",
       "      <td>1</td>\n",
       "      <td>2010</td>\n",
       "      <td>WD</td>\n",
       "      <td>Normal</td>\n",
       "    </tr>\n",
       "  </tbody>\n",
       "</table>\n",
       "<p>5 rows × 80 columns</p>\n",
       "</div>"
      ],
      "text/plain": [
       "     Id  MSSubClass MSZoning  LotFrontage  LotArea Street Alley LotShape  \\\n",
       "0  1461          20       RH         80.0    11622   Pave   NaN      Reg   \n",
       "1  1462          20       RL         81.0    14267   Pave   NaN      IR1   \n",
       "2  1463          60       RL         74.0    13830   Pave   NaN      IR1   \n",
       "3  1464          60       RL         78.0     9978   Pave   NaN      IR1   \n",
       "4  1465         120       RL         43.0     5005   Pave   NaN      IR1   \n",
       "\n",
       "  LandContour Utilities      ...       ScreenPorch PoolArea PoolQC  Fence  \\\n",
       "0         Lvl    AllPub      ...               120        0    NaN  MnPrv   \n",
       "1         Lvl    AllPub      ...                 0        0    NaN    NaN   \n",
       "2         Lvl    AllPub      ...                 0        0    NaN  MnPrv   \n",
       "3         Lvl    AllPub      ...                 0        0    NaN    NaN   \n",
       "4         HLS    AllPub      ...               144        0    NaN    NaN   \n",
       "\n",
       "  MiscFeature MiscVal MoSold  YrSold  SaleType  SaleCondition  \n",
       "0         NaN       0      6    2010        WD         Normal  \n",
       "1        Gar2   12500      6    2010        WD         Normal  \n",
       "2         NaN       0      3    2010        WD         Normal  \n",
       "3         NaN       0      6    2010        WD         Normal  \n",
       "4         NaN       0      1    2010        WD         Normal  \n",
       "\n",
       "[5 rows x 80 columns]"
      ]
     },
     "execution_count": 7,
     "metadata": {},
     "output_type": "execute_result"
    }
   ],
   "source": [
    "test_df.head()"
   ]
  },
  {
   "cell_type": "markdown",
   "metadata": {
    "_cell_guid": "1a357443-26b9-49f7-a5c6-d2d69454e0d1",
    "_uuid": "6aaa560c4d2ed6e396081ee098cad56bad98d463"
   },
   "source": [
    "### 2.2 Target feature SalePrice  <a class=\"anchor\" id=\"2.2-bullet\"></a>"
   ]
  },
  {
   "cell_type": "code",
   "execution_count": 8,
   "metadata": {
    "_cell_guid": "b4a8f157-95d6-43a2-ae44-66f4972031c2",
    "_uuid": "471a593e179aa1741b380b47f102aedb3f9454a9"
   },
   "outputs": [
    {
     "name": "stdout",
     "output_type": "stream",
     "text": [
      "count      1460.000000\n",
      "mean     180921.195890\n",
      "std       79442.502883\n",
      "min       34900.000000\n",
      "25%      129975.000000\n",
      "50%      163000.000000\n",
      "75%      214000.000000\n",
      "max      755000.000000\n",
      "Name: SalePrice, dtype: float64\n",
      "mu = 180921.20 and sigma = 79415.29\n",
      "Skewness: 1.882876\n",
      "Kurtosis: 6.536282\n"
     ]
    },
    {
     "data": {
      "image/png": "[encoded data removed]",
      "text/plain": [
       "<matplotlib.figure.Figure at 0x11ad03240>"
      ]
     },
     "metadata": {},
     "output_type": "display_data"
    }
   ],
   "source": [
    "## Analyze SalePrice\n",
    "\n",
    "print(train_df['SalePrice'].describe())\n",
    "\n",
    "sns.distplot(train_df['SalePrice'], fit=scipy.stats.norm);\n",
    "\n",
    "# fit a gaussian function to SalePrice\n",
    "(mu, sigma) = scipy.stats.norm.fit(train_df['SalePrice'])\n",
    "\n",
    "# mean, std, skewness and kurtosis\n",
    "print('mu = {:.2f} and sigma = {:.2f}'.format(mu, sigma))\n",
    "print(\"Skewness: %f\" % train_df['SalePrice'].skew())\n",
    "print(\"Kurtosis: %f\" % train_df['SalePrice'].kurt())\n",
    "\n",
    "# plot the distribution\n",
    "plt.legend(['Normal dist. ($\\mu=$ {:.2f} and $\\sigma=$ {:.2f} )'.format(mu, sigma)],\n",
    "            loc='best')\n",
    "plt.ylabel('Frequency')\n",
    "plt.title('SalePrice distribution')\n",
    "plt.show()"
   ]
  },
  {
   "cell_type": "code",
   "execution_count": 9,
   "metadata": {
    "_cell_guid": "bd88e04c-3c20-4f30-861e-55ecca92dd20",
    "_uuid": "0153ac91ddd674967eed45adc281977cfa246b3a"
   },
   "outputs": [
    {
     "name": "stdout",
     "output_type": "stream",
     "text": [
      "mu = 180921.20 and sigma = 79415.29\n",
      "Skewness: 0.121347\n",
      "Kurtosis: 0.809519\n"
     ]
    },
    {
     "data": {
      "image/png": "[encoded data removed]",
      "text/plain": [
       "<matplotlib.figure.Figure at 0x11e78deb8>"
      ]
     },
     "metadata": {},
     "output_type": "display_data"
    }
   ],
   "source": [
    "## create feature Log1pSalePrice = log(1+SalePrice)\n",
    "\n",
    "#We use the numpy fuction log1p which  applies log(1+x) to all elements of the column\n",
    "train_df[\"Log1pSalePrice\"] = np.log1p(train_df[\"SalePrice\"])\n",
    "\n",
    "#Check the new distribution \n",
    "sns.distplot(train_df['Log1pSalePrice'] , fit=scipy.stats.norm);\n",
    "(mu, sigma) = scipy.stats.norm.fit(train_df['SalePrice'])\n",
    "\n",
    "# mean, std, skewness and kurtosis\n",
    "print('mu = {:.2f} and sigma = {:.2f}'.format(mu, sigma))\n",
    "print(\"Skewness: %f\" % train_df['Log1pSalePrice'].skew())\n",
    "print(\"Kurtosis: %f\" % train_df['Log1pSalePrice'].kurt())\n",
    "\n",
    "# plot the distribution\n",
    "plt.legend(['Normal dist. ($\\mu=$ {:.2f} and $\\sigma=$ {:.2f} )'.format(mu, sigma)],\n",
    "            loc='best')\n",
    "plt.ylabel('Frequency')\n",
    "plt.title('SalePrice distribution')\n",
    "plt.show()"
   ]
  },
  {
   "cell_type": "markdown",
   "metadata": {
    "_cell_guid": "9dce1d60-8fef-4e8e-8739-eb6104442eaa",
    "_uuid": "084ef561324accded4fc8196f70f7267fd8c6217"
   },
   "source": [
    "### 2.3 Correct missing data  <a class=\"anchor\" id=\"2.3-bullet\"></a>"
   ]
  },
  {
   "cell_type": "code",
   "execution_count": 14,
   "metadata": {
    "_cell_guid": "ea13507d-7da0-44a8-92a7-0dfe1950cd7d",
    "_uuid": "1d20c529dd2ee7348a6b42d9b4a1655d23f01f5c"
   },
   "outputs": [
    {
     "ename": "ValueError",
     "evalue": "labels ['SalePrice' 'Log1pSalePrice'] not contained in axis",
     "output_type": "error",
     "traceback": [
      "\u001b[0;31m---------------------------------------------------------------------------\u001b[0m",
      "\u001b[0;31mValueError\u001b[0m                                Traceback (most recent call last)",
      "\u001b[0;32m<ipython-input-14-6ce7c6795b19>\u001b[0m in \u001b[0;36m<module>\u001b[0;34m()\u001b[0m\n\u001b[1;32m      1\u001b[0m \u001b[0;31m## concatenate train and test data\u001b[0m\u001b[0;34m\u001b[0m\u001b[0;34m\u001b[0m\u001b[0m\n\u001b[1;32m      2\u001b[0m \u001b[0;34m\u001b[0m\u001b[0m\n\u001b[0;32m----> 3\u001b[0;31m \u001b[0mdata_df\u001b[0m\u001b[0;34m.\u001b[0m\u001b[0mdrop\u001b[0m\u001b[0;34m(\u001b[0m\u001b[0;34m[\u001b[0m\u001b[0;34m'SalePrice'\u001b[0m\u001b[0;34m,\u001b[0m\u001b[0;34m'Log1pSalePrice'\u001b[0m\u001b[0;34m]\u001b[0m\u001b[0;34m,\u001b[0m \u001b[0maxis\u001b[0m\u001b[0;34m=\u001b[0m\u001b[0;36m1\u001b[0m\u001b[0;34m,\u001b[0m \u001b[0minplace\u001b[0m\u001b[0;34m=\u001b[0m\u001b[0;32mTrue\u001b[0m\u001b[0;34m)\u001b[0m\u001b[0;34m\u001b[0m\u001b[0m\n\u001b[0m\u001b[1;32m      4\u001b[0m \u001b[0mprint\u001b[0m\u001b[0;34m(\u001b[0m\u001b[0;34m\"data_df.shape = \"\u001b[0m\u001b[0;34m,\u001b[0m\u001b[0mdata_df\u001b[0m\u001b[0;34m.\u001b[0m\u001b[0mshape\u001b[0m\u001b[0;34m)\u001b[0m\u001b[0;34m\u001b[0m\u001b[0m\n",
      "\u001b[0;32m/Users/raoul/anaconda/lib/python3.6/site-packages/pandas/core/generic.py\u001b[0m in \u001b[0;36mdrop\u001b[0;34m(self, labels, axis, index, columns, level, inplace, errors)\u001b[0m\n\u001b[1;32m   2528\u001b[0m         \u001b[0;32mfor\u001b[0m \u001b[0maxis\u001b[0m\u001b[0;34m,\u001b[0m \u001b[0mlabels\u001b[0m \u001b[0;32min\u001b[0m \u001b[0maxes\u001b[0m\u001b[0;34m.\u001b[0m\u001b[0mitems\u001b[0m\u001b[0;34m(\u001b[0m\u001b[0;34m)\u001b[0m\u001b[0;34m:\u001b[0m\u001b[0;34m\u001b[0m\u001b[0m\n\u001b[1;32m   2529\u001b[0m             \u001b[0;32mif\u001b[0m \u001b[0mlabels\u001b[0m \u001b[0;32mis\u001b[0m \u001b[0;32mnot\u001b[0m \u001b[0;32mNone\u001b[0m\u001b[0;34m:\u001b[0m\u001b[0;34m\u001b[0m\u001b[0m\n\u001b[0;32m-> 2530\u001b[0;31m                 \u001b[0mobj\u001b[0m \u001b[0;34m=\u001b[0m \u001b[0mobj\u001b[0m\u001b[0;34m.\u001b[0m\u001b[0m_drop_axis\u001b[0m\u001b[0;34m(\u001b[0m\u001b[0mlabels\u001b[0m\u001b[0;34m,\u001b[0m \u001b[0maxis\u001b[0m\u001b[0;34m,\u001b[0m \u001b[0mlevel\u001b[0m\u001b[0;34m=\u001b[0m\u001b[0mlevel\u001b[0m\u001b[0;34m,\u001b[0m \u001b[0merrors\u001b[0m\u001b[0;34m=\u001b[0m\u001b[0merrors\u001b[0m\u001b[0;34m)\u001b[0m\u001b[0;34m\u001b[0m\u001b[0m\n\u001b[0m\u001b[1;32m   2531\u001b[0m \u001b[0;34m\u001b[0m\u001b[0m\n\u001b[1;32m   2532\u001b[0m         \u001b[0;32mif\u001b[0m \u001b[0minplace\u001b[0m\u001b[0;34m:\u001b[0m\u001b[0;34m\u001b[0m\u001b[0m\n",
      "\u001b[0;32m/Users/raoul/anaconda/lib/python3.6/site-packages/pandas/core/generic.py\u001b[0m in \u001b[0;36m_drop_axis\u001b[0;34m(self, labels, axis, level, errors)\u001b[0m\n\u001b[1;32m   2560\u001b[0m                 \u001b[0mnew_axis\u001b[0m \u001b[0;34m=\u001b[0m \u001b[0maxis\u001b[0m\u001b[0;34m.\u001b[0m\u001b[0mdrop\u001b[0m\u001b[0;34m(\u001b[0m\u001b[0mlabels\u001b[0m\u001b[0;34m,\u001b[0m \u001b[0mlevel\u001b[0m\u001b[0;34m=\u001b[0m\u001b[0mlevel\u001b[0m\u001b[0;34m,\u001b[0m \u001b[0merrors\u001b[0m\u001b[0;34m=\u001b[0m\u001b[0merrors\u001b[0m\u001b[0;34m)\u001b[0m\u001b[0;34m\u001b[0m\u001b[0m\n\u001b[1;32m   2561\u001b[0m             \u001b[0;32melse\u001b[0m\u001b[0;34m:\u001b[0m\u001b[0;34m\u001b[0m\u001b[0m\n\u001b[0;32m-> 2562\u001b[0;31m                 \u001b[0mnew_axis\u001b[0m \u001b[0;34m=\u001b[0m \u001b[0maxis\u001b[0m\u001b[0;34m.\u001b[0m\u001b[0mdrop\u001b[0m\u001b[0;34m(\u001b[0m\u001b[0mlabels\u001b[0m\u001b[0;34m,\u001b[0m \u001b[0merrors\u001b[0m\u001b[0;34m=\u001b[0m\u001b[0merrors\u001b[0m\u001b[0;34m)\u001b[0m\u001b[0;34m\u001b[0m\u001b[0m\n\u001b[0m\u001b[1;32m   2563\u001b[0m             \u001b[0mdropped\u001b[0m \u001b[0;34m=\u001b[0m \u001b[0mself\u001b[0m\u001b[0;34m.\u001b[0m\u001b[0mreindex\u001b[0m\u001b[0;34m(\u001b[0m\u001b[0;34m**\u001b[0m\u001b[0;34m{\u001b[0m\u001b[0maxis_name\u001b[0m\u001b[0;34m:\u001b[0m \u001b[0mnew_axis\u001b[0m\u001b[0;34m}\u001b[0m\u001b[0;34m)\u001b[0m\u001b[0;34m\u001b[0m\u001b[0m\n\u001b[1;32m   2564\u001b[0m             \u001b[0;32mtry\u001b[0m\u001b[0;34m:\u001b[0m\u001b[0;34m\u001b[0m\u001b[0m\n",
      "\u001b[0;32m/Users/raoul/anaconda/lib/python3.6/site-packages/pandas/core/indexes/base.py\u001b[0m in \u001b[0;36mdrop\u001b[0;34m(self, labels, errors)\u001b[0m\n\u001b[1;32m   3739\u001b[0m             \u001b[0;32mif\u001b[0m \u001b[0merrors\u001b[0m \u001b[0;34m!=\u001b[0m \u001b[0;34m'ignore'\u001b[0m\u001b[0;34m:\u001b[0m\u001b[0;34m\u001b[0m\u001b[0m\n\u001b[1;32m   3740\u001b[0m                 raise ValueError('labels %s not contained in axis' %\n\u001b[0;32m-> 3741\u001b[0;31m                                  labels[mask])\n\u001b[0m\u001b[1;32m   3742\u001b[0m             \u001b[0mindexer\u001b[0m \u001b[0;34m=\u001b[0m \u001b[0mindexer\u001b[0m\u001b[0;34m[\u001b[0m\u001b[0;34m~\u001b[0m\u001b[0mmask\u001b[0m\u001b[0;34m]\u001b[0m\u001b[0;34m\u001b[0m\u001b[0m\n\u001b[1;32m   3743\u001b[0m         \u001b[0;32mreturn\u001b[0m \u001b[0mself\u001b[0m\u001b[0;34m.\u001b[0m\u001b[0mdelete\u001b[0m\u001b[0;34m(\u001b[0m\u001b[0mindexer\u001b[0m\u001b[0;34m)\u001b[0m\u001b[0;34m\u001b[0m\u001b[0m\n",
      "\u001b[0;31mValueError\u001b[0m: labels ['SalePrice' 'Log1pSalePrice'] not contained in axis"
     ]
    }
   ],
   "source": [
    "## concatenate train and test data\n",
    "data_df = pd.concat((train_df, test_df)).reset_index(drop=True)\n",
    "data_df.drop(['SalePrice','Log1pSalePrice'], axis=1, inplace=True)\n",
    "print(\"data_df.shape = \",data_df.shape)"
   ]
  },
  {
   "cell_type": "code",
   "execution_count": null,
   "metadata": {
    "_cell_guid": "b384bdeb-bb0c-4cfb-a73b-b61321ec5f8e",
    "_uuid": "863095c64c3f0b437d4ac35ef7ad8668b9352cf4"
   },
   "outputs": [],
   "source": [
    "## check missing data\n",
    "\n",
    "data_df_na = data_df.isnull().mean(axis=0)\n",
    "data_df_na = data_df_na.drop(data_df_na[data_df_na == 0].index).sort_values(ascending=False)\n",
    "missing_data = pd.DataFrame({'Missing Data Ratio': data_df_na})\n",
    "print('data_df_na.shape = ', data_df_na.shape)\n",
    "missing_data.head(20)"
   ]
  },
  {
   "cell_type": "code",
   "execution_count": null,
   "metadata": {
    "_cell_guid": "2b338c19-b493-4c3b-bfde-ae2a40cc6395",
    "_uuid": "0a4abea30dd80fe40c8a48b2da142c35ed1ab074"
   },
   "outputs": [],
   "source": [
    "## visualize missing data\n",
    "\n",
    "f, ax = plt.subplots(figsize=(15, 12))\n",
    "plt.xticks(rotation='90')\n",
    "sns.barplot(x = data_df_na.index, y = 100*data_df_na)\n",
    "plt.xlabel('Features', fontsize=15)\n",
    "plt.ylabel('Percentage of missing values', fontsize=15)\n",
    "plt.title('Percentage of missing data of features', fontsize=15)"
   ]
  },
  {
   "cell_type": "code",
   "execution_count": null,
   "metadata": {
    "_cell_guid": "9043689a-df98-45b8-8c9f-77ae66587a3e",
    "_uuid": "c87692c9d22200257694fbafda3d7cde39121ac6",
    "collapsed": true
   },
   "outputs": [],
   "source": [
    "## treat missing values\n",
    "\n",
    "# set missing values to None (which means that the house does not have those features)\n",
    "data_df[\"PoolQC\"] = data_df[\"PoolQC\"].fillna(\"None\") # has no pool\n",
    "data_df[\"MiscFeature\"] = data_df[\"MiscFeature\"].fillna(\"None\") # has no special feature \n",
    "data_df[\"Alley\"] = data_df[\"Alley\"].fillna(\"None\") # has no alley access\n",
    "data_df[\"Fence\"] = data_df[\"Fence\"].fillna(\"None\") # has no fence \n",
    "data_df[\"FireplaceQu\"] = data_df[\"FireplaceQu\"].fillna(\"None\") # has no fireplace\n",
    "\n",
    "# group by neighborhoods and set missing values to \n",
    "# the median of LotFrontage of the corresponding neighborhoods\n",
    "data_df[\"LotFrontage\"] = data_df.groupby(\"Neighborhood\")[\"LotFrontage\"].transform(\n",
    "    lambda x: x.fillna(x.median()))\n",
    "\n",
    "# no garage => set missing entries to None\n",
    "for col in ('GarageType', 'GarageFinish', 'GarageQual', 'GarageCond'):\n",
    "    data_df[col] = data_df[col].fillna('None')\n",
    "\n",
    "# no garage => set missing entries to 0\n",
    "for col in ('GarageYrBlt', 'GarageArea', 'GarageCars'):\n",
    "    data_df[col] = data_df[col].fillna(0)\n",
    "\n",
    "# having no basement => set missing entries to 0\n",
    "for col in ('BsmtFinSF1', 'BsmtFinSF2', 'BsmtUnfSF','TotalBsmtSF', 'BsmtFullBath', \n",
    "            'BsmtHalfBath'):\n",
    "    data_df[col] = data_df[col].fillna(0)\n",
    "    \n",
    "# having no basement => set missing entries to None\n",
    "for col in ('BsmtQual', 'BsmtCond', 'BsmtExposure', 'BsmtFinType1', 'BsmtFinType2'):\n",
    "    data_df[col] = data_df[col].fillna('None')\n",
    "    \n",
    "# no masonry veneer => set Area = 0 and Type = None\n",
    "data_df[\"MasVnrType\"] = data_df[\"MasVnrType\"].fillna(\"None\")\n",
    "data_df[\"MasVnrArea\"] = data_df[\"MasVnrArea\"].fillna(0)\n",
    "\n",
    "# general zoning classification: set missing entry to most common value\n",
    "data_df['MSZoning'] = data_df['MSZoning'].fillna(data_df['MSZoning'].mode()[0])\n",
    "\n",
    "# for this categorical feature all records are \"AllPub\", except for one \"NoSeWa\" and 2 NA\n",
    "# => we can remove it\n",
    "data_df = data_df.drop(['Utilities'], axis=1)\n",
    "\n",
    "# set missing value to typical\n",
    "data_df[\"Functional\"] = data_df[\"Functional\"].fillna(\"Typ\")\n",
    "\n",
    "# set missing entries to most common values\n",
    "data_df['Electrical'] = data_df['Electrical'].fillna(data_df['Electrical'].mode()[0])\n",
    "data_df['KitchenQual'] = data_df['KitchenQual'].fillna(data_df['KitchenQual'].mode()[0])\n",
    "data_df['Exterior1st'] = data_df['Exterior1st'].fillna(data_df['Exterior1st'].mode()[0])\n",
    "data_df['Exterior2nd'] = data_df['Exterior2nd'].fillna(data_df['Exterior2nd'].mode()[0])\n",
    "data_df['SaleType'] = data_df['SaleType'].fillna(data_df['SaleType'].mode()[0])\n",
    "\n",
    "# set missing value to None \n",
    "data_df['MSSubClass'] = data_df['MSSubClass'].fillna(\"None\")"
   ]
  },
  {
   "cell_type": "code",
   "execution_count": null,
   "metadata": {
    "_cell_guid": "899c8eeb-c014-4bbc-9a28-a55e612d9b98",
    "_uuid": "c4e4c47e998e26ba121876a160ae405cd98576f2"
   },
   "outputs": [],
   "source": [
    "## check if missing values remain\n",
    "\n",
    "data_df_na = data_df.isnull().median(axis = 0)\n",
    "data_df_na = data_df_na.drop(data_df_na[data_df_na == 0].index).sort_values(ascending=False)\n",
    "missing_data = pd.DataFrame({'Missing Data Ratio': data_df_na})\n",
    "print('data_df_na.shape = ', data_df_na.shape)\n",
    "missing_data.head()"
   ]
  },
  {
   "cell_type": "markdown",
   "metadata": {
    "_cell_guid": "3b6cdfaa-04f9-42e3-b4d8-ff76a9d21742",
    "_uuid": "2b47719e0736acf354c731850f7104f82b23ce9f"
   },
   "source": [
    "### 2.4 Convert and create new features  <a class=\"anchor\" id=\"2.4-bullet\"></a>"
   ]
  },
  {
   "cell_type": "code",
   "execution_count": null,
   "metadata": {
    "_cell_guid": "ad1b246b-10e2-4fac-b162-205f4f135ec8",
    "_uuid": "bb722d2a15f42ee28276e8475336a6f0a7c92b92",
    "collapsed": true
   },
   "outputs": [],
   "source": [
    "## Convert numerical type into string type for categorial features \n",
    "\n",
    "# MSSubClass = The building class\n",
    "data_df['MSSubClass'] = data_df['MSSubClass'].apply(str)\n",
    "\n",
    "# changing OverallCond into a categorical variable\n",
    "data_df['OverallCond'] = data_df['OverallCond'].astype(str)\n",
    "\n",
    "# year and month sold are transformed into categorical features\n",
    "data_df['YrSold'] = data_df['YrSold'].astype(str)\n",
    "data_df['MoSold'] = data_df['MoSold'].astype(str)"
   ]
  },
  {
   "cell_type": "code",
   "execution_count": null,
   "metadata": {
    "_cell_guid": "485371a2-87f0-447d-bc9f-10c473f1a8f6",
    "_uuid": "9bc8d0db760cd894adcfc8c680c367c679a991be"
   },
   "outputs": [],
   "source": [
    "## Encode some features with values between 0 and n_classes-1\n",
    "\n",
    "# categorial features\n",
    "cols = ('FireplaceQu', 'BsmtQual', 'BsmtCond', 'GarageQual', 'GarageCond', \n",
    "        'ExterQual', 'ExterCond','HeatingQC', 'PoolQC', 'KitchenQual', 'BsmtFinType1', \n",
    "        'BsmtFinType2', 'Functional', 'Fence', 'BsmtExposure', 'GarageFinish', 'LandSlope',\n",
    "        'LotShape', 'PavedDrive', 'Street', 'Alley', 'CentralAir', 'MSSubClass', 'OverallCond', \n",
    "        'YrSold', 'MoSold')\n",
    "\n",
    "# apply sklearn.preprocessing.LabelEncoder to each categorical feature\n",
    "for c in cols:\n",
    "    lbl = sklearn.preprocessing.LabelEncoder() \n",
    "    lbl.fit(list(data_df[c].values)) \n",
    "    data_df[c] = lbl.transform(list(data_df[c].values))\n",
    "\n",
    "# shape        \n",
    "print('data_df.shape = ', data_df.shape)"
   ]
  },
  {
   "cell_type": "code",
   "execution_count": null,
   "metadata": {
    "_cell_guid": "d3747df5-7570-4c4d-b38d-2bc4af23f6c7",
    "_uuid": "8354c0772c600acd3377dba685207fd4583697f5",
    "collapsed": true
   },
   "outputs": [],
   "source": [
    "## Create new feature: total sqfootage \n",
    "\n",
    "data_df['TotalSF'] = data_df['TotalBsmtSF'] + data_df['1stFlrSF'] + data_df['2ndFlrSF']\n"
   ]
  },
  {
   "cell_type": "code",
   "execution_count": null,
   "metadata": {
    "_cell_guid": "e34a55cd-5d1b-474a-9ae7-c21d424a62a8",
    "_uuid": "424c7aa0f181fad2e0ac0a5a81d4ad715c2e7b0d"
   },
   "outputs": [],
   "source": [
    "## Check the skewness of all numerical features\n",
    "\n",
    "numerical_features = data_df.dtypes[data_df.dtypes != \"object\"].index\n",
    "skewness_of_features = data_df[numerical_features].apply(lambda x: scipy.stats.skew(x.dropna())).sort_values(\n",
    "    ascending=False)\n",
    "skewness_df = pd.DataFrame({'Skewness': skewness_of_features})\n",
    "skewness_df.head(10)"
   ]
  },
  {
   "cell_type": "code",
   "execution_count": null,
   "metadata": {
    "_cell_guid": "0e062202-057c-428c-bce8-b1d99a1437c0",
    "_uuid": "84d1ae14e68f8489eef16319aa102271529d4dba"
   },
   "outputs": [],
   "source": [
    "## Compute the Box-Cox transformation of 1 + x for skewed features\n",
    "\n",
    "skewness_df = skewness_df[abs(skewness_df) > 0.75]\n",
    "print(\"skewness_df.shape = \", skewness_df.shape)\n",
    "skewed_features = skewness_df.index\n",
    "lamb = 0.15\n",
    "for feature in skewed_features:\n",
    "    data_df[feature] = scipy.special.boxcox1p(data_df[feature], lamb)"
   ]
  },
  {
   "cell_type": "code",
   "execution_count": null,
   "metadata": {
    "_cell_guid": "92fe3009-a323-477d-963c-a20728a541d8",
    "_uuid": "bd6ccad7d4d328bc77bf2474bf1f076e7864c5a6"
   },
   "outputs": [],
   "source": [
    "## Check skewness again\n",
    "\n",
    "numerical_features = data_df.dtypes[data_df.dtypes != \"object\"].index\n",
    "skewness_of_features = data_df[numerical_features].apply(lambda x: \n",
    "                            scipy.stats.skew(x.dropna())).sort_values(ascending=False)\n",
    "skewness_df = pd.DataFrame({'Skewness': skewness_of_features})\n",
    "skewness_df.head(10)"
   ]
  },
  {
   "cell_type": "markdown",
   "metadata": {
    "_cell_guid": "19b5ec18-b60f-4598-bf78-d214f9f923a2",
    "_uuid": "5cd0d38476685b957d82fb1d7d00b1688f867680"
   },
   "source": [
    "### 2.5 Check correlation of features  <a class=\"anchor\" id=\"2.5-bullet\"></a>"
   ]
  },
  {
   "cell_type": "code",
   "execution_count": null,
   "metadata": {},
   "outputs": [],
   "source": [
    "## use LabelEncoding or dummy variables on all categorial features\n",
    "\n",
    "cols = data_df.select_dtypes(exclude = [np.number]).columns.values\n",
    "print('numerical columns:', data_df.select_dtypes(include = [np.number]).columns.values.shape[0])\n",
    "print('categorial columns:', cols.shape[0])\n",
    "\n",
    "if True:\n",
    "    # create dummy variables\n",
    "    data_df = pd.get_dummies(data_df).copy()\n",
    "else:\n",
    "    # apply sklearn.preprocessing.LabelEncoder\n",
    "    for c in cols:\n",
    "        lbl = sklearn.preprocessing.LabelEncoder() \n",
    "        lbl.fit(list(data_df[c].values)) \n",
    "        data_df[c] = lbl.transform(list(data_df[c].values))\n",
    "\n",
    "# shape        \n",
    "print('data_df.shape = ', data_df.shape)"
   ]
  },
  {
   "cell_type": "code",
   "execution_count": null,
   "metadata": {
    "_cell_guid": "868439d1-17e5-4db8-b7c9-2c90d0d40e60",
    "_uuid": "a365321cae825664df3d978e737b8ea083f4ca06"
   },
   "outputs": [],
   "source": [
    "# correlation map of all features\n",
    "df = data_df[:train_df.shape[0]]\n",
    "df['SalePrice'] = train_df['SalePrice'].values\n",
    "corrmat = df.corr()\n",
    "plt.subplots(figsize=(30,9))\n",
    "sns.heatmap(corrmat, vmax=0.9, square=True)\n",
    "corr_values_df = pd.DataFrame(df.corr()['SalePrice'].abs().sort_values(ascending=True))\n",
    "\n",
    "# show features that have the smallest correlation with SalePrice\n",
    "print(corr_values_df[0:10])"
   ]
  },
  {
   "cell_type": "code",
   "execution_count": null,
   "metadata": {
    "_cell_guid": "611dedaf-027e-4f16-9df4-5735c6a35575",
    "_uuid": "a4c79be2ac18b6ca12636f41c893d5c698b1f8b3"
   },
   "outputs": [],
   "source": [
    "# box plot SalePrice versus OverallQual\n",
    "var = 'OverallQual'\n",
    "data = pd.concat([train_df['SalePrice'], train_df[var]], axis=1)\n",
    "f, ax = plt.subplots(figsize=(8, 6))\n",
    "fig = sns.boxplot(x=var, y=\"SalePrice\", data=data)\n",
    "fig.axis(ymin=0, ymax=800000);\n"
   ]
  },
  {
   "cell_type": "code",
   "execution_count": null,
   "metadata": {
    "_cell_guid": "8738a873-48dc-4591-a753-34be70a774ef",
    "_uuid": "bc7dc8459e65da35f3d20e1dce5bfa709917785c"
   },
   "outputs": [],
   "source": [
    "## box-plot SalePrice versus YearBuilt\n",
    "var = 'YearBuilt'\n",
    "data = pd.concat([train_df['SalePrice'], train_df[var]], axis=1)\n",
    "f, ax = plt.subplots(figsize=(16, 8))\n",
    "fig = sns.boxplot(x=var, y=\"SalePrice\", data=data)\n",
    "fig.axis(ymin=0, ymax=800000);\n",
    "plt.xticks(rotation=90);"
   ]
  },
  {
   "cell_type": "markdown",
   "metadata": {},
   "source": [
    "### 2.6 Final feature selection <a class=\"anchor\" id=\"2.6-bullet\"></a>"
   ]
  },
  {
   "cell_type": "code",
   "execution_count": null,
   "metadata": {
    "_cell_guid": "fd991f80-52ce-4df6-9e9e-a79aafd81cf0",
    "_uuid": "0436662104b43e20a2673bfcadc107a0a3110119"
   },
   "outputs": [],
   "source": [
    "## drop features\n",
    "\n",
    "if False:\n",
    "    drop_features = corr_values_df.index.values[0:100]\n",
    "    data_df = data_df.drop(drop_features, axis = 1)\n",
    "\n",
    "if False:\n",
    "    drop_features = ['Id','MoSold','Condition2','LandContour']\n",
    "    data_df = data_df.drop(drop_features, axis = 1)\n",
    "\n",
    "if False:\n",
    "    drop_features = ['Id','MoSold','Condition2','LandContour']\n",
    "    data_df = data_df.drop(drop_features, axis = 1)\n",
    "    \n",
    "print('data_df.shape = ',data_df.shape)"
   ]
  },
  {
   "cell_type": "markdown",
   "metadata": {
    "_cell_guid": "f18d0e1d-42ca-4698-9a45-574e31c2e4b9",
    "_uuid": "e60b4e775237389b1758e5f2923ca38746a099f7"
   },
   "source": [
    "# 3. Model data  <a class=\"anchor\" id=\"3-bullet\"></a>"
   ]
  },
  {
   "cell_type": "markdown",
   "metadata": {},
   "source": [
    "### 3.1 Split training/validation/test data <a class=\"anchor\" id=\"3.1-bullet\"></a>"
   ]
  },
  {
   "cell_type": "code",
   "execution_count": null,
   "metadata": {},
   "outputs": [],
   "source": [
    "## split data into training/validation/test sets\n",
    "\n",
    "# function to compute the root mean squared error\n",
    "def get_rmse(y_pred, y_target):\n",
    "    return np.sqrt(np.mean(np.square(y_pred.reshape(-1,) - y_target.reshape(-1,))))\n",
    "\n",
    "# function to normalize data\n",
    "def normalize_data(data): \n",
    "    # scale features using statistics that are robust to outliers\n",
    "    # turns out that sklearn works very well \n",
    "    rs = sklearn.preprocessing.RobustScaler()\n",
    "    rs.fit(data)\n",
    "    data = rs.transform(data)\n",
    "    #div = np.percentile(data,0.75,axis=0) - np.percentile(data,0.25,axis=0)\n",
    "    #np.place(div, div < 1., 1.)\n",
    "    #print(div)\n",
    "    #data = (data-np.median(data,axis=0))/div\n",
    "    return data\n",
    "\n",
    "# normalize data to make it robust against outliers\n",
    "data_df_norm = normalize_data(data_df.values)\n",
    "\n",
    "# store train+validation data\n",
    "x_train_valid = data_df_norm[:train_df.shape[0]]\n",
    "y_train_valid = train_df.Log1pSalePrice.values\n",
    "x_test = data_df_norm[train_df.shape[0]:]\n",
    "\n",
    "# dictionaries for storing results\n",
    "y_test_pred  = {}\n",
    "rmse_train = {}\n",
    "rmse_valid = {}\n",
    "\n",
    "print('x_train_valid.shape = ', x_train_valid.shape)\n",
    "print('y_train_valid.shape = ', y_train_valid.shape)\n",
    "print('x_test.shape = ', x_test.shape)"
   ]
  },
  {
   "cell_type": "markdown",
   "metadata": {},
   "source": [
    "### 3.2 Neural network implementation <a class=\"anchor\" id=\"3.2-bullet\"></a>"
   ]
  },
  {
   "cell_type": "code",
   "execution_count": null,
   "metadata": {
    "collapsed": true
   },
   "outputs": [],
   "source": [
    "## implementation of a neural network\n",
    "\n",
    "# global parameters needed for next_batch function\n",
    "perm_array_train = np.array([])\n",
    "index_in_epoch = 0 \n",
    "\n",
    "# function to get the next mini batch\n",
    "def next_batch(batch_size, x_train, y_train):\n",
    "    global index_in_epoch, perm_array_train\n",
    "    \n",
    "    start = index_in_epoch\n",
    "    index_in_epoch += batch_size\n",
    "    \n",
    "    if not len(perm_array_train) ==  len(x_train):\n",
    "        perm_array_train = np.arange(len(x_train))\n",
    "    \n",
    "    if index_in_epoch > len(x_train):\n",
    "        np.random.shuffle(perm_array_train) # shuffle data\n",
    "        start = 0 # start next epoch\n",
    "        index_in_epoch = batch_size # set index to batch size\n",
    "                \n",
    "    end = index_in_epoch\n",
    "    \n",
    "    x_tr  = x_train[perm_array_train[start:end]]\n",
    "    y_tr  = y_train[perm_array_train[start:end]].reshape(-1,1)\n",
    "     \n",
    "    return x_tr, y_tr\n",
    "\n",
    "# function to create the graph\n",
    "def create_nn_graph(num_input_features = 10, num_output_features = 1):\n",
    "\n",
    "    # reset default graph\n",
    "    tf.reset_default_graph()\n",
    "\n",
    "    # parameters of nn architecture\n",
    "    x_size = num_input_features # number of features\n",
    "    y_size = num_output_features # output size\n",
    "    n_n_fc1 = 256; # number of neurons of first layer\n",
    "    n_n_fc2 = 32; # number of neurons of second layer\n",
    "\n",
    "    # variables for input and output \n",
    "    x_data = tf.placeholder('float', shape=[None, x_size])\n",
    "    y_data = tf.placeholder('float', shape=[None, y_size])\n",
    "\n",
    "    # 1.layer: fully connected\n",
    "    W_fc1 = tf.Variable(tf.truncated_normal(shape = [x_size, n_n_fc1], stddev = 0.1))\n",
    "    b_fc1 = tf.Variable(tf.constant(0.1, shape = [n_n_fc1]))  \n",
    "    h_fc1 = tf.nn.relu(tf.matmul(x_data, W_fc1) + b_fc1)\n",
    "\n",
    "    # dropout\n",
    "    tf_keep_prob = tf.placeholder('float')\n",
    "    h_fc1_drop = tf.nn.dropout(h_fc1, tf_keep_prob)\n",
    "\n",
    "    # 2.layer: fully connected\n",
    "    W_fc2 = tf.Variable(tf.truncated_normal(shape = [n_n_fc1, n_n_fc2], stddev = 0.1)) \n",
    "    b_fc2 = tf.Variable(tf.constant(0.1, shape = [n_n_fc2]))  \n",
    "    h_fc2 = tf.nn.relu(tf.matmul(h_fc1_drop, W_fc2) + b_fc2) \n",
    "\n",
    "    # dropout\n",
    "    h_fc2_drop = tf.nn.dropout(h_fc2, tf_keep_prob)\n",
    "\n",
    "    # 3.layer: fully connected\n",
    "    W_fc3 = tf.Variable(tf.truncated_normal(shape = [n_n_fc2, y_size], stddev = 0.1)) \n",
    "    b_fc3 = tf.Variable(tf.constant(0.1, shape = [y_size]))  \n",
    "    y_pred = tf.cast(tf.matmul(h_fc2_drop, W_fc3) + b_fc3, dtype = tf.float32)\n",
    "\n",
    "    # cost function huber_loss \n",
    "    #loss = tf.sqrt(tf.losses.mean_squared_error(labels=y_data, predictions=y_pred))\n",
    "    loss = tf.sqrt(tf.reduce_mean(tf.square(y_data - y_pred)))\n",
    "\n",
    "    # optimisation function\n",
    "    tf_learn_rate = tf.placeholder(dtype='float', name=\"tf_learn_rate\")\n",
    "    train_step = tf.train.AdamOptimizer(tf_learn_rate).minimize(loss)\n",
    "    \n",
    "    # tf tensors\n",
    "    tf_tensors = {'train_step': train_step, 'loss': loss, 'y_pred': y_pred,\n",
    "                  'tf_keep_prob': tf_keep_prob, 'tf_learn_rate': tf_learn_rate,\n",
    "                  'x_data': x_data, 'y_data': y_data}\n",
    "    \n",
    "    return tf_tensors\n",
    "\n",
    "# function to train the graph\n",
    "def train_nn_graph(tf_tensors, x_train, y_train, x_valid, y_valid, verbose = False):\n",
    "    \n",
    "    # tf tensors\n",
    "    train_step = tf_tensors['train_step']\n",
    "    loss = tf_tensors['loss']\n",
    "    y_pred = tf_tensors['y_pred']\n",
    "    tf_keep_prob = tf_tensors['tf_keep_prob']\n",
    "    tf_learn_rate = tf_tensors['tf_learn_rate']\n",
    "    x_data = tf_tensors['x_data']\n",
    "    y_data = tf_tensors['y_data']\n",
    "    \n",
    "    # parameters\n",
    "    train_set_size = x_train.shape[0]\n",
    "    keep_prob = 0.5; # dropout regularization with keeping probability\n",
    "    learn_rate_range = [0.01, 0.0075, 0.005, 0.0025, 0.001, 0.00075, 0.00050, 0.00025,\n",
    "                        0.0001];\n",
    "    learn_rate_step = 10 # in terms of epochs \n",
    "    batch_size = 10\n",
    "    n_epoch = 100 # number of epochs\n",
    "\n",
    "    # start TensorFlow session and initialize global variables\n",
    "    sess = tf.InteractiveSession() \n",
    "    sess.run(tf.global_variables_initializer())  \n",
    "    n_learnrate_step = 0;\n",
    "\n",
    "    # iterate\n",
    "    for i in range(int(n_epoch*train_set_size/batch_size)):\n",
    "\n",
    "        # adapt learning rate\n",
    "        if (i%int(learn_rate_step*train_set_size/batch_size) == 0 and \n",
    "            n_learnrate_step < len(learn_rate_range)):\n",
    "\n",
    "            learn_rate = learn_rate_range[n_learnrate_step];\n",
    "            if verbose: \n",
    "                print('nn: set learnrate = ', learn_rate)\n",
    "            n_learnrate_step += 1;\n",
    "\n",
    "        # get next batch\n",
    "        x_batch, y_batch = next_batch(batch_size, x_train, y_train)\n",
    "\n",
    "        sess.run(train_step, feed_dict={x_data: x_batch, y_data: y_batch, \n",
    "                                        tf_keep_prob: keep_prob, tf_learn_rate: learn_rate})\n",
    "\n",
    "        # log the status\n",
    "        if (verbose and i%int(2.*train_set_size/batch_size) == 0):\n",
    "            train_loss = sess.run(loss,feed_dict={x_data: x_train, \n",
    "                                                  y_data: y_train, \n",
    "                                                  tf_keep_prob: 1.0})\n",
    "\n",
    "            valid_loss = sess.run(loss,feed_dict={x_data: x_valid, \n",
    "                                                  y_data: y_valid, \n",
    "                                                  tf_keep_prob: 1.0})\n",
    "\n",
    "            print('nn: %.2f epoch: train/val loss = %.4f/%.4f'%(\n",
    "                (i+1)*batch_size/train_set_size, train_loss, valid_loss))\n",
    "\n",
    "    # store rmse \n",
    "    y_train_pred = y_pred.eval(feed_dict={x_data: x_train, tf_keep_prob: 1.0}).flatten()\n",
    "    y_valid_pred = y_pred.eval(feed_dict={x_data: x_valid, tf_keep_prob: 1.0}).flatten()\n",
    "    y_test_pred = y_pred.eval(feed_dict={x_data: x_test, tf_keep_prob: 1.0}).flatten()\n",
    "\n",
    "    sess.close();\n",
    "    \n",
    "    return (y_train_pred, y_valid_pred, y_test_pred)"
   ]
  },
  {
   "cell_type": "code",
   "execution_count": null,
   "metadata": {},
   "outputs": [],
   "source": [
    "## check training of neural network\n",
    "\n",
    "if False:\n",
    "    # create graph and receive tf tensors\n",
    "    tf_tensors = create_nn_graph(x_train_valid.shape[1], 1)\n",
    "\n",
    "    # cross validations\n",
    "    cv_num = 10\n",
    "    kfold = sklearn.model_selection.KFold(cv_num, shuffle=True)\n",
    "\n",
    "    for train_index, valid_index in kfold.split(x_train_valid):\n",
    "\n",
    "        x_train = x_train_valid[train_index]\n",
    "        y_train = y_train_valid[train_index].reshape(-1,1)\n",
    "        x_valid = x_train_valid[valid_index]\n",
    "        y_valid = y_train_valid[valid_index].reshape(-1,1)\n",
    "\n",
    "        # train nn\n",
    "        (y_train_pred['nn'], \n",
    "         y_valid_pred['nn'],\n",
    "         y_test_pred['nn']) = train_nn_graph(tf_tensors, x_train,  \n",
    "                                             y_train, x_valid,  y_valid, True)\n",
    "        \n",
    "        # loss\n",
    "        print('nn: train/val loss = %.4f/%.4f'%(get_rmse(y_train_pred['nn'],y_train),\n",
    "                                                get_rmse(y_valid_pred['nn'], y_valid)))\n",
    "        "
   ]
  },
  {
   "cell_type": "markdown",
   "metadata": {},
   "source": [
    "### 3.3 Training base models  <a class=\"anchor\" id=\"3.3-bullet\"></a> "
   ]
  },
  {
   "cell_type": "code",
   "execution_count": null,
   "metadata": {
    "_cell_guid": "355756d5-6098-4fc7-b646-19781d94dd80",
    "_uuid": "06304552492db7ad77f21316d825f44c34d6eabd"
   },
   "outputs": [],
   "source": [
    "## Training base models\n",
    "\n",
    "# base models in sklearn\n",
    "linreg = sklearn.linear_model.LinearRegression()\n",
    "lasso = sklearn.linear_model.Lasso(alpha = 0.0005, random_state=1) \n",
    "enet =  sklearn.linear_model.ElasticNet(alpha=0.0005, l1_ratio=.9, random_state=3)\n",
    "krr = sklearn.kernel_ridge.KernelRidge(alpha=0.6, kernel='polynomial', degree=2, coef0=2.5)\n",
    "gboost = sklearn.ensemble.GradientBoostingRegressor(n_estimators=3000, learning_rate=0.05,\n",
    "                                   max_depth=4, max_features='sqrt',\n",
    "                                   min_samples_leaf=15, min_samples_split=10, \n",
    "                                   loss='huber', random_state =5)\n",
    "rforest = sklearn.ensemble.RandomForestRegressor(n_estimators=3000,\n",
    "                                   max_depth=4, max_features='sqrt',\n",
    "                                   min_samples_leaf=15, min_samples_split=10, \n",
    "                                   random_state =5)\n",
    "\n",
    "\n",
    "# store models in dictionary\n",
    "model_init = {'linreg': linreg, 'lasso': lasso, 'enet': enet, 'krr': krr, \n",
    "              'gboost': gboost, 'rforest': rforest}\n",
    "\n",
    "# choose the models to train on\n",
    "take_base_models = ['linreg', 'lasso', 'enet', 'krr', 'gboost', 'rforest', 'nn']\n",
    "\n",
    "# dictionaries to store results\n",
    "rmse_valid = {}\n",
    "rmse_train = {}\n",
    "y_train_pred = {}\n",
    "y_valid_pred = {}\n",
    "y_test_pred = {}\n",
    "\n",
    "# initialize variables to zero\n",
    "for mn in take_base_models:\n",
    "    rmse_train[mn] = 0\n",
    "    rmse_valid[mn] = 0\n",
    "    y_test_pred[mn] = 0\n",
    "\n",
    "# number of cross validations\n",
    "cv_num = 10\n",
    "kfold = sklearn.model_selection.KFold(cv_num, shuffle=True)\n",
    "\n",
    "# cross-validation\n",
    "for i, (train_index, valid_index) in enumerate(kfold.split(x_train_valid)):\n",
    "    \n",
    "    print(i+1,'. training of models in progress')\n",
    "    x_train = x_train_valid[train_index]\n",
    "    y_train = y_train_valid[train_index]\n",
    "    x_valid = x_train_valid[valid_index]\n",
    "    y_valid = y_train_valid[valid_index]\n",
    "    \n",
    "    for mn in take_base_models:\n",
    "        \n",
    "        if mn == 'nn':\n",
    "            # create graph and receive tf tensors\n",
    "            tf_tensors = create_nn_graph(x_train_valid.shape[1], 1)\n",
    "    \n",
    "            # train neural network\n",
    "            params = train_nn_graph(tf_tensors, x_train, y_train.reshape(-1,1),\n",
    "                                    x_valid, y_valid.reshape(-1,1), False) \n",
    "    \n",
    "            rmse_train['nn'] += get_rmse(params[0],y_train)\n",
    "            rmse_valid['nn'] += get_rmse(params[1],y_valid)\n",
    "            y_test_pred['nn'] += params[2]\n",
    "\n",
    "        else:\n",
    "            # create cloned model from model_init\n",
    "            model = sklearn.base.clone(model_init[mn])\n",
    "            model.fit(x_train, y_train)\n",
    "            y_test_pred[mn] += model.predict(x_test)\n",
    "            rmse_train[mn] += get_rmse(model.predict(x_train), y_train)\n",
    "            rmse_valid[mn] += get_rmse(model.predict(x_valid), y_valid)\n",
    "          \n",
    "print('')\n",
    "# store and print results\n",
    "for mn in take_base_models:\n",
    "    \n",
    "    rmse_train[mn] /= cv_num\n",
    "    rmse_valid[mn] /= cv_num\n",
    "    y_test_pred[mn] /= cv_num\n",
    "        \n",
    "    print(mn,'train/valid RMSE = %.3f/%.3f'%(rmse_train[mn], rmse_valid[mn]))\n",
    "\n",
    "# average rmse over the following models\n",
    "take_model_avg = ['linreg', 'lasso', 'enet']\n",
    "\n",
    "rmse_train['averaged'] = 0\n",
    "rmse_valid['averaged'] = 0\n",
    "\n",
    "for mn in take_model_avg:\n",
    "    rmse_train['averaged'] += rmse_train[mn]**2\n",
    "    rmse_valid['averaged'] += rmse_valid[mn]**2\n",
    "\n",
    "# average rmse\n",
    "rmse_train['averaged'] = np.sqrt(rmse_train['averaged']/len(take_model_avg)) \n",
    "rmse_valid['averaged'] = np.sqrt(rmse_valid['averaged']/len(take_model_avg)) \n",
    "\n",
    "print('')\n",
    "print('Average the following models:', take_model_avg)\n",
    "print('Averaged train/valid RMSE = %.3f/%.3f'%(rmse_train['averaged'],\n",
    "                                               rmse_valid['averaged']))\n"
   ]
  },
  {
   "cell_type": "code",
   "execution_count": null,
   "metadata": {},
   "outputs": [],
   "source": [
    "## correlation of test predictions\n",
    "\n",
    "y_test_pred_df = pd.DataFrame({})\n",
    "for key in y_test_pred.keys():\n",
    "    y_test_pred_df[key] = np.expm1(y_test_pred[key])\n",
    "\n",
    "corrmat = y_test_pred_df.corr()\n",
    "corrmat\n",
    "plt.subplots(figsize=(10,5))\n",
    "plt.title('Correlation of Test Predictions')\n",
    "sns.heatmap(corrmat, vmax=1, square=True)"
   ]
  },
  {
   "cell_type": "markdown",
   "metadata": {},
   "source": [
    "### 3.4 Stacking of base models <a class=\"anchor\" id=\"3.4-bullet\"></a>"
   ]
  },
  {
   "cell_type": "code",
   "execution_count": null,
   "metadata": {},
   "outputs": [],
   "source": [
    "# choose models for out-of-folds predictions\n",
    "\n",
    "#take_base_models = ['linreg','lasso','rforest', 'gboost', 'krr', 'enet', 'nn']\n",
    "\n",
    "take_base_models = ['lasso', 'gboost','lasso', 'gboost', 'gboost',\n",
    "                    'lasso', 'gboost', 'lasso', 'gboost','gboost']\n",
    "\n",
    "# choose meta model\n",
    "take_meta_model = 'lasso'\n",
    "\n",
    "# cross validations\n",
    "kfold = sklearn.model_selection.KFold(len(take_base_models), shuffle=True)\n",
    "\n",
    "# train data for meta model\n",
    "x_train_meta = np.array([])\n",
    "y_train_meta = np.array([])\n",
    "x_test_meta = np.zeros(x_test.shape[0])\n",
    "\n",
    "# make out-of-folds predictions from base models\n",
    "for i,(train_index, valid_index) in enumerate(kfold.split(x_train_valid)):\n",
    "    \n",
    "    x_train = x_train_valid[train_index]\n",
    "    y_train = y_train_valid[train_index]\n",
    "    x_valid = x_train_valid[valid_index]\n",
    "    y_valid = y_train_valid[valid_index]\n",
    "    \n",
    "    if take_base_models[i] == 'nn':\n",
    "        # create graph and receive tf tensors\n",
    "        tf_tensors = create_nn_graph(x_train_valid.shape[1], 1)\n",
    "\n",
    "        # train neural network\n",
    "        params = train_nn_graph(tf_tensors, x_train, y_train.reshape(-1,1),\n",
    "                                x_valid, y_valid.reshape(-1,1), False) \n",
    "\n",
    "        y_train_pred['tmp'] = params[0]\n",
    "        y_valid_pred['tmp'] = params[1]\n",
    "        y_test_pred['tmp'] = params[2]\n",
    "\n",
    "    else:\n",
    "        # create cloned model from base models\n",
    "        model = sklearn.base.clone(model_init[take_base_models[i]])\n",
    "        model.fit(x_train, y_train)\n",
    "        y_train_pred['tmp'] = model.predict(x_train)\n",
    "        y_valid_pred['tmp'] = model.predict(x_valid)\n",
    "        y_test_pred['tmp'] = model.predict(x_test)\n",
    "\n",
    "    # collect train and test data for meta model \n",
    "    x_train_meta = np.concatenate([x_train_meta, y_valid_pred['tmp']])\n",
    "    y_train_meta = np.concatenate([y_train_meta, y_valid]) \n",
    "    x_test_meta += y_test_pred['tmp']\n",
    "    \n",
    "    print(take_base_models[i],': train/valid rmse = %.3f/%.3f'%(\n",
    "        get_rmse(y_train_pred['tmp'], y_train), get_rmse(y_valid_pred['tmp'], y_valid)))\n",
    "\n",
    "x_train_meta = x_train_meta.reshape(-1,1)\n",
    "x_test_meta = (x_test_meta/len(take_base_models)).reshape(-1,1)\n",
    "y_test_pred['stacked'] = x_test_meta\n",
    "\n",
    "print('')\n",
    "print('Stacked base models: valid rmse = ', get_rmse(x_train_meta, y_train_meta))\n",
    "\n",
    "# train meta model\n",
    "model = sklearn.base.clone(model_init[take_meta_model]) \n",
    "model.fit(x_train_meta, y_train_meta)\n",
    "y_train_pred['meta model'] = model.predict(x_train_meta)\n",
    "y_test_pred['meta model'] = model.predict(x_test_meta)\n",
    "\n",
    "print('Meta model: train rmse = ', get_rmse(x_train_meta, y_train_pred['meta model']))"
   ]
  },
  {
   "cell_type": "markdown",
   "metadata": {},
   "source": [
    "# 4. Predict and submit test results  <a class=\"anchor\" id=\"4-bullet\"></a>"
   ]
  },
  {
   "cell_type": "code",
   "execution_count": null,
   "metadata": {},
   "outputs": [],
   "source": [
    "## choose the test prediction\n",
    "\n",
    "y_test_submit = y_test_pred['meta model']\n",
    "\n",
    "sub_df = pd.DataFrame()\n",
    "sub_df['Id'] = test_df['Id'].values\n",
    "sub_df['SalePrice'] = np.expm1(y_test_submit)\n",
    "sub_df.to_csv('submission.csv',index=False)\n",
    "sub_df.head(5)"
   ]
  },
  {
   "cell_type": "code",
   "execution_count": null,
   "metadata": {
    "collapsed": true
   },
   "outputs": [],
   "source": []
  }
 ],
 "metadata": {
  "kernelspec": {
   "display_name": "Python 3",
   "language": "python",
   "name": "python3"
  },
  "language_info": {
   "codemirror_mode": {
    "name": "ipython",
    "version": 3
   },
   "file_extension": ".py",
   "mimetype": "text/x-python",
   "name": "python",
   "nbconvert_exporter": "python",
   "pygments_lexer": "ipython3",
   "version": "3.6.1"
  }
 },
 "nbformat": 4,
 "nbformat_minor": 1
}
